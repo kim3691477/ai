{
  "nbformat": 4,
  "nbformat_minor": 0,
  "metadata": {
    "colab": {
      "name": "Untitled1.ipynb",
      "provenance": [],
      "authorship_tag": "ABX9TyMbL3Y4/oO4DmjA/jkxfLiQ",
      "include_colab_link": true
    },
    "kernelspec": {
      "name": "python3",
      "display_name": "Python 3"
    }
  },
  "cells": [
    {
      "cell_type": "markdown",
      "metadata": {
        "id": "view-in-github",
        "colab_type": "text"
      },
      "source": [
        "<a href=\"https://colab.research.google.com/github/kim3691477/ai/blob/master/Untitled1.ipynb\" target=\"_parent\"><img src=\"https://colab.research.google.com/assets/colab-badge.svg\" alt=\"Open In Colab\"/></a>"
      ]
    },
    {
      "cell_type": "markdown",
      "metadata": {
        "id": "ppTia5jOjjxC",
        "colab_type": "text"
      },
      "source": [
        "2주차 1강 - 기초 파이썬[1]\n",
        "\n",
        "1. 머신러닝에서 파이썬을 쓰는 이유는 다양한 통계와 시각화 라이브러리 때문이다.\n",
        "- O\n",
        "\n",
        "2주차 2강 - 기초 파이썬[2]\n",
        "\n",
        "파이썬 사칙연산 /는 일반적인 나눗셈 //는 나눗셈의 몫을 정수로 반환 %는 나눗셈의 나머지 출력\n",
        "\n",
        "복소수는 j를 사용하여 표현\n",
        "\n",
        "데이터 타입 정수는 int, 소수 float, 복소수 complex, 문자열 str\n",
        "type()를 사용하면 각 데이터 타입을 확인 가능\n",
        "\n",
        "변수 : 변수 이름은 자유, 첫 문자는 알파벳|한글|underbar(_) 사용\n",
        "help('keywords')를 사용하여 예약어들 확인 가능\n",
        "\n",
        "주석은 # 사용\n",
        "\n",
        "리스트에 저장된 값들은 '요소'라고 부름 각각의 위치가 지정됨\n",
        "대괄호[]안 숫자는 '인덱스'(0부터 시작)\n",
        "\n",
        "'음수 인덱스'는 뒤에서부터 시작\n",
        "\n",
        "리스트의 장점은 리스트 안에 또 다시 리스트, 문자열, 소수, 정수 등 저장할 수 잇는 데이터 타입과 깊이에 제약이 없음\n",
        "\n",
        "콜론(:)을 사용하여 범위 지정 가능\n",
        "ex) a[1:3]에서 콜론 이전 요소 값은 포함 이후 요소 값은 미포함 = 1이상 3미만\n",
        "ex) a[2: ]에서 콜론 2를 포함한 이후의 값을 출력\n",
        "ex)a[ :3]에서 콜론 3전까지의 값을 출력\n",
        "\n",
        "튜플은 소괄호()를 사용\n",
        "\n",
        "튜플은 한번 만든 요소에 대하여 추가, 변경, 삭제가 불가능\n",
        "데이터가 바뀌지 않으므로 리스트보다 처리속도가 빠름\n",
        "\n",
        "조건문\n",
        "if문 - 어떠한 조건일 때만 실행하고자 하는 경우\n",
        "else - 조건문의 조건이 맞지 않는 경우 실행\n",
        "\n"
      ]
    },
    {
      "cell_type": "code",
      "metadata": {
        "id": "IDrjy9vLjsiJ",
        "colab_type": "code",
        "colab": {
          "base_uri": "https://localhost:8080/",
          "height": 36
        },
        "outputId": "144a0aa2-2d4e-440c-aedf-a5ea7cb6cd45"
      },
      "source": [
        "a = 3\n",
        "if a == 3 :\n",
        "\tprint('a는 3입니다')\n",
        "else :\n",
        "\tprint('a는 3이 아닙니다')"
      ],
      "execution_count": 9,
      "outputs": [
        {
          "output_type": "stream",
          "text": [
            "a는 3입니다\n"
          ],
          "name": "stdout"
        }
      ]
    },
    {
      "cell_type": "markdown",
      "metadata": {
        "id": "UN5g8WdPkfe5",
        "colab_type": "text"
      },
      "source": [
        "반복문\n",
        "for문은 조건에 포함되는 값 개수만큼 블록을 실행\n",
        "range(시작숫자, 끝숫자, 숫자간격)로 작성 - 시작숫자를 생략시 0, 숫자간격을 생략시 1로 할당\n",
        "\n",
        "\n",
        "\n",
        "\n"
      ]
    },
    {
      "cell_type": "code",
      "metadata": {
        "id": "MbJQJ322khXy",
        "colab_type": "code",
        "colab": {
          "base_uri": "https://localhost:8080/",
          "height": 73
        },
        "outputId": "7a9566c6-bdc7-4cf0-b99c-259196295e16"
      },
      "source": [
        "for i in range(3) :\n",
        "\tprint(i)"
      ],
      "execution_count": 10,
      "outputs": [
        {
          "output_type": "stream",
          "text": [
            "0\n",
            "1\n",
            "2\n"
          ],
          "name": "stdout"
        }
      ]
    },
    {
      "cell_type": "markdown",
      "metadata": {
        "id": "wtw9MRLKza5G",
        "colab_type": "text"
      },
      "source": [
        " for i, e in enumerate([5,3,7]):\n",
        "\tprint(i,\":\",e)\n",
        "인덱스는 i, 요소는 e에 저장\n",
        "조건의 값 개수는 3(끝숫자)\n"
      ]
    },
    {
      "cell_type": "code",
      "metadata": {
        "id": "5vAeizWnklAR",
        "colab_type": "code",
        "colab": {
          "base_uri": "https://localhost:8080/",
          "height": 73
        },
        "outputId": "765a173c-e6c3-49b3-9eb6-759d5aaab4e3"
      },
      "source": [
        "for i, e in enumerate([5,3,7]):\n",
        "\tprint(i,\":\",e)"
      ],
      "execution_count": 11,
      "outputs": [
        {
          "output_type": "stream",
          "text": [
            "0 : 5\n",
            "1 : 3\n",
            "2 : 7\n"
          ],
          "name": "stdout"
        }
      ]
    },
    {
      "cell_type": "code",
      "metadata": {
        "id": "vmPWBPMSkvF5",
        "colab_type": "code",
        "colab": {
          "base_uri": "https://localhost:8080/",
          "height": 92
        },
        "outputId": "a8fdccfa-c647-40b8-dfbc-476219af3640"
      },
      "source": [
        "i = 0\n",
        "while i < 4 : # 조건을 만족하지 않을 때까지 무한으로 반복 실행\n",
        "\tprint(i)\n",
        "\ti+=1"
      ],
      "execution_count": 12,
      "outputs": [
        {
          "output_type": "stream",
          "text": [
            "0\n",
            "1\n",
            "2\n",
            "3\n"
          ],
          "name": "stdout"
        }
      ]
    },
    {
      "cell_type": "markdown",
      "metadata": {
        "id": "i07SOn2QzXvh",
        "colab_type": "text"
      },
      "source": [
        "1. 튜플과 리스트의 차이점으로 알맞지 않은 것을 고르세요.\n",
        "   1) 튜플은 소괄호를 사용하고 리스트는 대괄호를 사용한다.\n",
        "   2) 리스트는 수정이 가능하지만 튜플은 추가, 변경, 삭제가 불가능하다.\n",
        "   3) 튜플의 처리 속도는 리스트보다 느리다.\n",
        "- 3) 데이터 타입의 변경이 없어서 리스트 보다 빠르다.\n",
        "\n",
        "2. a=[5,36,57,2,4666] 인 리스트가 있을 때 57을 출력하기 위해서 \n",
        "다음과 같이 코드를 적었을 때 빈 칸에 들어갈 숫자를 입력하세요. a[]\n",
        "- 2\n",
        "\n",
        "3. for문의 조건에 enumerate([1,5,45,74,26,455,2266])이 있을 때\n",
        "for문은 몇 번 실행이 될까요?\n",
        "- 7"
      ]
    },
    {
      "cell_type": "markdown",
      "metadata": {
        "id": "ERplZgRek0fb",
        "colab_type": "text"
      },
      "source": [
        "2주차 3강 - 기초 파이썬[3]\n",
        "\n",
        "함수\n",
        "\n",
        "def(define) 예약어 사용\n",
        "\n",
        "def print_hello() : #print_hello는 함수의 이름 ()는 전달값_변수명, 전달 값을 받을 필요가 없으면 빈칸\n",
        "\n"
      ]
    },
    {
      "cell_type": "code",
      "metadata": {
        "id": "QqsPQsg8k1fb",
        "colab_type": "code",
        "colab": {
          "base_uri": "https://localhost:8080/",
          "height": 129
        },
        "outputId": "39a057e7-737d-419b-fa57-475d64ede0fc"
      },
      "source": [
        "def print_hello() :\n",
        "  print('Hi, Ai')\n",
        "  print('It\\'s me')\n",
        "\n",
        "print_hello()\n",
        "print_hello()\n",
        "print_hello()"
      ],
      "execution_count": 24,
      "outputs": [
        {
          "output_type": "stream",
          "text": [
            "Hi, Ai\n",
            "It's me\n",
            "Hi, Ai\n",
            "It's me\n",
            "Hi, Ai\n",
            "It's me\n"
          ],
          "name": "stdout"
        }
      ]
    },
    {
      "cell_type": "code",
      "metadata": {
        "id": "Vy_5LmawmFcn",
        "colab_type": "code",
        "colab": {
          "base_uri": "https://localhost:8080/",
          "height": 36
        },
        "outputId": "5957add1-b2db-4d8f-eca9-b7481fd3f8ff"
      },
      "source": [
        "def my_sum(a,b) :\n",
        "\tres = a + b\n",
        "\treturn res\n",
        "  \n",
        "res = my_sum(10,15)\n",
        "print(res)"
      ],
      "execution_count": 25,
      "outputs": [
        {
          "output_type": "stream",
          "text": [
            "25\n"
          ],
          "name": "stdout"
        }
      ]
    },
    {
      "cell_type": "markdown",
      "metadata": {
        "id": "t1AbDF57mS88",
        "colab_type": "text"
      },
      "source": [
        "len 함수 - 변수가 가진 값의 길이를 반환\n",
        "\n"
      ]
    },
    {
      "cell_type": "code",
      "metadata": {
        "id": "li5FpggRmTse",
        "colab_type": "code",
        "colab": {
          "base_uri": "https://localhost:8080/",
          "height": 36
        },
        "outputId": "ff0339b0-7f2e-4154-b4b0-3efaaa0b6119"
      },
      "source": [
        "a = [1,3,5,6,10]\n",
        "len(a)"
      ],
      "execution_count": 26,
      "outputs": [
        {
          "output_type": "execute_result",
          "data": {
            "text/plain": [
              "5"
            ]
          },
          "metadata": {
            "tags": []
          },
          "execution_count": 26
        }
      ]
    },
    {
      "cell_type": "markdown",
      "metadata": {
        "id": "-JqjIzgGmaTV",
        "colab_type": "text"
      },
      "source": [
        "input 함수 - 사용자로부터 입력값을 받는 함수\n"
      ]
    },
    {
      "cell_type": "code",
      "metadata": {
        "id": "Dgn_7xzjme_k",
        "colab_type": "code",
        "colab": {
          "base_uri": "https://localhost:8080/",
          "height": 36
        },
        "outputId": "5544a4ea-8f0c-4f0b-95a8-66c84eb9d443"
      },
      "source": [
        "a = input(\"your input : \")"
      ],
      "execution_count": 27,
      "outputs": [
        {
          "output_type": "stream",
          "text": [
            "your input : 입력\n"
          ],
          "name": "stdout"
        }
      ]
    },
    {
      "cell_type": "markdown",
      "metadata": {
        "id": "FrxR9kQfmdLx",
        "colab_type": "text"
      },
      "source": [
        "클래스\n",
        "\n",
        "class 예약어 사용\n",
        "\n",
        "ex) class 클래스명 :\n",
        "\t변수명 = 값\n",
        "\t변수명 = 값\n",
        "\tdef 함수명(self, 전달값_변수명, ...) : # self - 파이썬 내부에서 사용되는 약속된 값\n",
        "\t\t코드 1\n",
        "\t\t코드 2"
      ]
    },
    {
      "cell_type": "code",
      "metadata": {
        "id": "urp0bv5Qmm-Y",
        "colab_type": "code",
        "colab": {
          "base_uri": "https://localhost:8080/",
          "height": 241
        },
        "outputId": "001445de-6bdf-4a45-f31d-84159b8a37f8"
      },
      "source": [
        "class Email: \n",
        "  sender = \"\" #변수\n",
        "\n",
        "  def send_mail(self, recv, subject, contents) : # self를 제외한 전달 값을 3개 입력받는 함수\n",
        "    print(\"From:\\t\" + self.sender) #클래스에 속한 변수이기 때문에 클래스 자기 자신이 가진 sender라는 의미\n",
        "    print(\"To:\\t\" + recv)\n",
        "    print(\"Subject:\" + subject)\n",
        "    print(\"Contents\")\n",
        "    print(contents)\n",
        "    print(\"_\"*20)\n",
        "#---------Email클래스를 정의하는 코드\n",
        "e = Email() # 클래스가 변수로 저장된 의미 Eamil클래스 자료형 변수가 된 것을 의미\n",
        "e.sender = \"airim@naver.com\" # Email클래스에 있는 sender 변수에 접근하고자 .(점)을 이용한것, 점을 활용하면 클래스 내부에 있는 변수에 접근 가능\n",
        "recv_list = (\"gwangjuai_1@likelion.net\", \"gwangjuai_@likelion.net\")\n",
        "\n",
        "for recv in recv_list :\n",
        "  e.send_mail(recv, \"광주 인공지능 사관학교에 오신것을 환영합니다\", \n",
        "                \"이번 온라인 강의는 함수와 클래스 입니다.\")\n",
        "    #클래스 변수는 이후 클래스에 속한 변수와 함수를 모두 사용 가능"
      ],
      "execution_count": 35,
      "outputs": [
        {
          "output_type": "stream",
          "text": [
            "From:\tairim@naver.com\n",
            "To:\tgwangjuai_1@likelion.net\n",
            "Subject:광주 인공지능 사관학교에 오신것을 환영합니다\n",
            "Contents\n",
            "이번 온라인 강의는 함수와 클래스 입니다.\n",
            "____________________\n",
            "From:\tairim@naver.com\n",
            "To:\tgwangjuai_@likelion.net\n",
            "Subject:광주 인공지능 사관학교에 오신것을 환영합니다\n",
            "Contents\n",
            "이번 온라인 강의는 함수와 클래스 입니다.\n",
            "____________________\n"
          ],
          "name": "stdout"
        }
      ]
    },
    {
      "cell_type": "markdown",
      "metadata": {
        "id": "NY_ZBIrhrYJy",
        "colab_type": "text"
      },
      "source": [
        "클래스 활용\n",
        "\n",
        "from과 import를 이용하여 코드를 불러옴\n",
        "\n",
        "메모장에 저장할때 .py로 저장하여 불러오기"
      ]
    },
    {
      "cell_type": "code",
      "metadata": {
        "id": "qYt0WLQKr2Pg",
        "colab_type": "code",
        "colab": {}
      },
      "source": [
        "from my_email import Email"
      ],
      "execution_count": 0,
      "outputs": []
    },
    {
      "cell_type": "code",
      "metadata": {
        "id": "YncqWoY_t9yb",
        "colab_type": "code",
        "colab": {
          "base_uri": "https://localhost:8080/",
          "height": 241
        },
        "outputId": "20a77f2e-79e8-46c1-82fc-5fcf27ad155f"
      },
      "source": [
        "e = Email() \n",
        "e.sender = \"airim@naver.com\" \n",
        "recv_list = (\"gwangjuai_1@likelion.net\", \"gwangjuai_@likelion.net\")\n",
        "\n",
        "for recv in recv_list :\n",
        "  e.send_mail(recv, \"광주 인공지능 사관학교에 오신것을 환영합니다\", \n",
        "                \"이번 온라인 강의는 함수와 클래스 입니다.\")"
      ],
      "execution_count": 44,
      "outputs": [
        {
          "output_type": "stream",
          "text": [
            "From:\tairim@naver.com\n",
            "To:\tgwangjuai_1@likelion.net\n",
            "Subject:광주 인공지능 사관학교에 오신것을 환영합니다\n",
            "Contents\n",
            "이번 온라인 강의는 함수와 클래스 입니다.\n",
            "____________________\n",
            "From:\tairim@naver.com\n",
            "To:\tgwangjuai_@likelion.net\n",
            "Subject:광주 인공지능 사관학교에 오신것을 환영합니다\n",
            "Contents\n",
            "이번 온라인 강의는 함수와 클래스 입니다.\n",
            "____________________\n"
          ],
          "name": "stdout"
        }
      ]
    },
    {
      "cell_type": "markdown",
      "metadata": {
        "id": "D5aj5bGduVY-",
        "colab_type": "text"
      },
      "source": [
        "1. 함수를 만들기 위한 파이썬 예약어를 적어주세요\n",
        "- def\n",
        "\n",
        "2. 클래스에 자기 자신을 의미하는 전달값은 무엇인가요?\n",
        "- self\n",
        "\n",
        "3.강의 속 email 클래스 안에서 sender 변수에 접근하기 위해서 괄호안에 들어갈 기호는 기호는 무엇인가요?\n",
        "ex) self()sender\n",
        "- . = self.sender"
      ]
    },
    {
      "cell_type": "markdown",
      "metadata": {
        "id": "hQHtL4EwuRKx",
        "colab_type": "text"
      },
      "source": [
        "2주차 4강 - 머신러닝의 분류\n",
        "\n",
        "지도학습, 비지도학습, 강화학습\n",
        "\n",
        "지도학습 - 레이블된 훈련 데이터를 활용하여 모델을 학습시켜, 본적 없는 가까운 미래 데이터에 대해 예측값을 출력하는 것\n",
        "\n",
        "분류와 회귀가 있음\n",
        "\n",
        "분류 - 과거의 관측으로 새로운 샘플의 범주형 클래스 레이블(이산적, 순서가 없음) 예측\n",
        "일련의 규칙을 학습\n",
        "결정 경계\n",
        "모델학습을 하여 우리의 손글씨를 예측\n",
        "\n",
        "회귀 - 데이터가 주어졌을 때, 연속적인 출력값을 예측하는 기법\n",
        "머신러닝 알고리즘은 입력 데이터와 출력값이 주어졌을 때 두 변수 사이의 관계를 탐색\n",
        "\n",
        "입력값x와 결과값y가 주어지면 각 데이터와 직선 사이 거리가 최소가 되는 직선을 그을 수 있는데, 일반적으로 평군 제곱 거리를 사용\n",
        "데이터에서 학습한 직선과 절편을 이용하면 새로운 데이터 예측값 출력 가능"
      ]
    },
    {
      "cell_type": "markdown",
      "metadata": {
        "id": "x5nDt_hJw_JI",
        "colab_type": "text"
      },
      "source": [
        "강화학습\n",
        "\n",
        "환경이란 개념과 상호작용하여 에이전트의 성능을 향상시키는 것\n",
        "\n",
        "강화학습의 피드백은 정답 레이블이나 수치가 아닌 보상함수를 것을 통해 에이전트가 취한 행동이 좋은지 않좋은지 판단\n",
        "\n",
        "강화학습을 통한 벽돌깨기는 처음에는 아무것도 모르고 시작을 하여 후에 어떻게 하면 양의 보상을 얻는지 어떻게하면 음의 보상을 얻는지 행동과 환경 그리고 보상이라는 개념을 통해 학습을 하기 시작\n",
        "\n",
        "보상이 최대화 되는 일련의 행동을 학습\n",
        "\n",
        "사람이 생각 할 수 없는 수를 생각한다"
      ]
    },
    {
      "cell_type": "markdown",
      "metadata": {
        "id": "8UjoNaheyGlZ",
        "colab_type": "text"
      },
      "source": [
        "비지도 학습\n",
        "\n",
        "레이블되지 않은 데이터, 구조를 알 수 없는 데이터\n",
        "\n",
        "출력값이나 보상함수 도움 없이도 의미 있는 정보를 추출, 데이터 구조를 탐색 가능\n",
        "\n",
        "군집 - 사전 정보 없이 쌓여있는 그룹 정보를 의미있는 서브그룹 또는 클러스터로 조직하는 탐색적 데이터 분석 기법\n",
        "\n",
        "분석과정에서 만든 각 클러스터는 어느 정도 유사성을 공유하고 다른 데이터(클레스터)와 구분되는 그룹을 형성\n",
        "\n",
        "정보를 조직화하고 데이터에서 의미 있는 관계를 유도\n",
        "\n",
        "차원축소 - 고차원의 데이터를 저차원으로 축소하는 기법\n",
        "\n",
        "고차원 데이터의 대부분의 정보를 유지하면서 더 작은 차원의 부분 공간으로 데이터를 압축"
      ]
    },
    {
      "cell_type": "markdown",
      "metadata": {
        "id": "-aUhSlrg0HGS",
        "colab_type": "text"
      },
      "source": [
        "1. 머신러닝의 학습 유형은 지도학습, 비지도학습, ____이 있다.\n",
        "- 강화학습\n",
        "\n",
        "2. 손글씨 인식 알고리즘 학습으로 적합한 학습 방법은?\n",
        "- 지도 학습\n",
        "\n",
        "3. 연속적인 값을 예측하기에 적합한 모델은 분류모델이다?\n",
        "-X"
      ]
    },
    {
      "cell_type": "markdown",
      "metadata": {
        "id": "GrPwawXx0WaU",
        "colab_type": "text"
      },
      "source": [
        "2주차 5강 - 머신러닝을 위한 기초수학[1]\n",
        "\n",
        "통계학 - 수치 데이터의 수집, 분석, 해석, 표현 등을 다루는 수학의 한 분야\n",
        "\n",
        "기술 통계학, 추론 통계학\n",
        "\n",
        "기술 통계학 - 연속형 데이터, 범주형 데이터\n",
        "\n",
        "연속형 데이터 - (키, 나이, 가격) 평균, 표준편차로 나뉨\n",
        "\n",
        "범주형 데이터 - (이름,종족,성별) 빈도, 백분율\n",
        "\n",
        "추론 통계학 - 표본을 지정 -> 통계분석실시 -> 결과 유추\n",
        "가설검정, 수치로 되어있는 특징들을 계산, 각 데이터 간의 상관관계를 분석\n",
        "\n",
        "통계 모델링 - 데이터에 통계학을 적용하여 변수의 유의성을 분석함으로써 방대한 야으이 데이터에 숨겨진 특성을 찾아내는 의미\n",
        "\n",
        "통계모델 - 수학적 모델\n",
        "수학식을 계산할때 실제 값을 추정하는 방법\n",
        "\n",
        "여러 가정을 확률분포를 따름\n",
        "\n",
        "모든 변수 즉 데이터가 이러한 가정에 만족해야 하는 '기본 가정'으로 시작\n",
        "이 조건이 만족할 때만 모델의 성능이 통계학적으로 의미를 가짐\n",
        "\n",
        "확률분포 - 대칭형 종모양 그래프(정규 분포) - 평균의 분포\n",
        "\n",
        "최빈값 - 분포상 가장 많은 빈도수를 가진 값 (가장 높은곳) \n",
        "중앙값 - 데이터 값의 크기를 기준으로 정렬했을 때 가장 중앙에 위치한 곳\n",
        "평균 - 모든 데이터들의 평균값\n",
        "\n",
        "정규분포 - 최빈값=중앙값=평균\n",
        "\n",
        "\n"
      ]
    },
    {
      "cell_type": "code",
      "metadata": {
        "id": "TxcAdqYa4Edc",
        "colab_type": "code",
        "colab": {
          "base_uri": "https://localhost:8080/",
          "height": 73
        },
        "outputId": "306e8d99-1159-475d-e124-1d7254ff58e6"
      },
      "source": [
        "import numpy as np\n",
        "from scipy import stats\n",
        "\n",
        "np.random.seed(0) #숫자의 의미보다는 실험을 위한 '통제가 가능 제한적 공간'\n",
        "\n",
        "#분포를 이룰 무작위 데이터 생성\n",
        "data_A = np.random.randint(0,100,10000) #0부터 100까지 범위 안에서 10000개의 데이터를 무작위로 추출\n",
        "\n",
        "#각 평균, 중앙값, 최빈값 계산\n",
        "mean = np.mean(data_A) # numpy에 속해있는 mean()&median()활용\n",
        "median = np.median(data_A) \n",
        "mode = stats.mode(data_A) # scipy 패키지의 stats모듈에 속해있는 mode()활용\n",
        "\n",
        "print(\"평균값 : \", mean.round(2))\n",
        "print(\"중앙값 : \", median) # 평균, 중앙값은 하나의 객체 출력\n",
        "print(\"최빈값 : {} ( {} )\". format(mode[0][0], mode[1][0])) # 최빈값은 해당수, 빈도수 출력\n",
        "\n",
        "#정규분포와는 거리가 먼 결과값"
      ],
      "execution_count": 47,
      "outputs": [
        {
          "output_type": "stream",
          "text": [
            "평균값 :  49.17\n",
            "중앙값 :  49.0\n",
            "최빈값 : 3 ( 125 )\n"
          ],
          "name": "stdout"
        }
      ]
    },
    {
      "cell_type": "code",
      "metadata": {
        "id": "I1hCHljY5v90",
        "colab_type": "code",
        "colab": {
          "base_uri": "https://localhost:8080/",
          "height": 73
        },
        "outputId": "d32b4ef0-c14c-42af-bb3f-775e115ee2f3"
      },
      "source": [
        "import numpy as np\n",
        "from scipy import stats\n",
        "\n",
        "np.random.seed(0)\n",
        "\n",
        "data_B = np.random.normal(size=100)\n",
        "\n",
        "mean = np.mean(data_B)\n",
        "median = np.median(data_B)\n",
        "mode = stats.mode(data_B)\n",
        "\n",
        "print(\"평균값 : \", mean.round(2))\n",
        "print(\"중앙값 : \", median)\n",
        "print(\"최빈값 : {} ( {} )\". format(mode[0][0], mode[1][0]))"
      ],
      "execution_count": 48,
      "outputs": [
        {
          "output_type": "stream",
          "text": [
            "평균값 :  0.06\n",
            "중앙값 :  0.09409611943799814\n",
            "최빈값 : -2.5529898158340787 ( 1 )\n"
          ],
          "name": "stdout"
        }
      ]
    },
    {
      "cell_type": "markdown",
      "metadata": {
        "id": "nZbg80hJ6TQo",
        "colab_type": "text"
      },
      "source": [
        "변량의 측정(수치, 변수)\n",
        "\n",
        "산포(데이터의 변량) - 데이터가 얼마나 중심으로 모이지 않고 흩어져 있는지\n",
        "\n",
        "산포를 측정하는 것이 분산\n",
        "\n",
        "분산 - 평균과의 거리를 제곱한 값의 평균\n",
        "\n",
        "제곱을 하는 이유 - 평균과의 거리를 계산하다 보면 '음수'가 나오는 경우가 생김\n",
        "그렇기에 항상'양수'의 값만 출력하귀 위함\n",
        "\n",
        "분산의 제곱근을 표준편차라 함"
      ]
    },
    {
      "cell_type": "code",
      "metadata": {
        "id": "eBhm8erv62cI",
        "colab_type": "code",
        "colab": {
          "base_uri": "https://localhost:8080/",
          "height": 55
        },
        "outputId": "8b98e5ef-df1f-48b2-8c0c-2308d141b6f1"
      },
      "source": [
        "data_A_var = np.var(data_A)\n",
        "data_A_std = np.std(data_A)\n",
        "\n",
        "print(\"분산 : \", data_A_var.round(2)) #값이 너무 커서 비교가 쉽지 않음\n",
        "print(\"표준편차 : \", data_A_std.round(2)) #단점을 좀 보완하고자 원래의 단위로 보정한 것"
      ],
      "execution_count": 49,
      "outputs": [
        {
          "output_type": "stream",
          "text": [
            "분산 :  833.0\n",
            "표준편차 :  28.86\n"
          ],
          "name": "stdout"
        }
      ]
    },
    {
      "cell_type": "markdown",
      "metadata": {
        "id": "NzvxS3Bs7TLK",
        "colab_type": "text"
      },
      "source": [
        "사분위수 - 데이터를  사 등분 한 지표\n",
        "\n",
        "데이터 구성을 전체적으로 살펴보고자 할 때 사용\n",
        "\n",
        "데이터의 이상치 탐색과 중심위치 및 분포를 빠르게 파악할 수 있다는 강점\n",
        "\n",
        "총 4개의 지점으로 나뉨 - 데이터들을 크기순으로 가장 작은 값부터 가장 큰값으로 나눔\n",
        "\n",
        "122\n",
        "1사분위수 - 1/4 즉 25%에 해당하는 지점, 2.5\n",
        "\n",
        "345\n",
        "2사분위수 - 2/4 즉 50%에 해당하는 지점, 5.5\n",
        "\n",
        "678\n",
        "3사분위수 - 3/4 즉 75%에 해당하는 지점, 8.0\n",
        "\n",
        "899\n",
        "4사분위수 - 4/4 즉 100%에 해당하는 지점,\n",
        "9.0\n",
        "\n",
        "122 -> Q1 = (2+3)/2 = 2.5\n",
        "345 -> Q2 = (5+6)/2 = 5.5\n",
        "678 -> Q3 = (8+8)/2 = 8\n",
        "899 -> Q4 = 9\n",
        "※ 단, 지금처럼 전체 범위가 짝수인 경우 각 단면의 값들의 '평균'을 구해 표현 \n",
        "\n",
        "사분위수 그리고 박스플롯은 이상치 탐색, 데이터 분포 등을 확인할 때 유용\n",
        "또, 다수의 객체들과 비교하고자 할때도 유용하게 사용"
      ]
    },
    {
      "cell_type": "code",
      "metadata": {
        "id": "DxC1Q0E684_L",
        "colab_type": "code",
        "colab": {
          "base_uri": "https://localhost:8080/",
          "height": 204
        },
        "outputId": "b53fbc69-cfa5-421a-e62f-ae0e8ba2af77"
      },
      "source": [
        "import pandas as pd\n",
        "\n",
        "#A사와 B사의 배달시간 데이터('분' 단위)\n",
        "store_a = pd.Series([20,21,23,22,26,28,35,35,41,42,43,45,44,45,46,47,47,46,47,58,58,59,60,56,57,57,80])\n",
        "store_b = pd.Series([5,6,11,13,15,16,20,20,21,23,22,27,27,30,30,32,36,37,37,40,40,43,44,45,51,54,70,600])\n",
        "\n",
        "# quantile()를 활용해 사분위수값 출력\n",
        "A_Q1 = store_a.quantile(0.25) ; print(\"1사분위수 : \", A_Q1)\n",
        "A_Q2 = store_a.quantile(0.50) ; print(\"2사분위수(중앙값) : \", A_Q2)\n",
        "A_Q3 = store_a.quantile(0.75) ; print(\"3사분위수 : \", A_Q3)\n",
        "A_Q4 = store_a.quantile(1) ; print(\"4사분위수 : \", A_Q4, '\\n')\n",
        "\n",
        "B_Q1 = store_b.quantile(0.25) ; print(\"1사분위수 : \", B_Q1)\n",
        "B_Q2 = store_b.quantile(0.50) ; print(\"2사분위수(중앙값) : \", B_Q2)\n",
        "B_Q3 = store_b.quantile(0.75) ; print(\"3사분위수 : \", B_Q3)\n",
        "B_Q4 = store_b.quantile(1) ; print(\"4사분위수 : \", B_Q4, '\\n')"
      ],
      "execution_count": 57,
      "outputs": [
        {
          "output_type": "stream",
          "text": [
            "1사분위수 :  35.0\n",
            "2사분위수(중앙값) :  45.0\n",
            "3사분위수 :  56.5\n",
            "4사분위수 :  80.0 \n",
            "\n",
            "1사분위수 :  20.0\n",
            "2사분위수(중앙값) :  30.0\n",
            "3사분위수 :  40.75\n",
            "4사분위수 :  600.0 \n",
            "\n"
          ],
          "name": "stdout"
        }
      ]
    },
    {
      "cell_type": "code",
      "metadata": {
        "id": "uwKDTzKl8tbd",
        "colab_type": "code",
        "colab": {
          "base_uri": "https://localhost:8080/",
          "height": 265
        },
        "outputId": "7b9e3188-35d1-4221-b895-6ea1838c9c8a"
      },
      "source": [
        "import matplotlib.pyplot as plt\n",
        "\n",
        "# A사 데이터의 박스플롯\n",
        "plt.boxplot((store_a))\n",
        "plt.grid()\n",
        "plt.show()\n",
        "\n",
        "# 맨 위의 선 - 이상치를 제외한 최댓값\n",
        "# 맨 아래의 선 - 이상치를 제외한 최솟값\n",
        "# 상자 맨 위 Q3\n",
        "# 상자 중앙 Q2\n",
        "# 상자 맨아래 Q1"
      ],
      "execution_count": 53,
      "outputs": [
        {
          "output_type": "display_data",
          "data": {
            "image/png": "[encoded data removed]",
            "text/plain": [
              "<Figure size 432x288 with 1 Axes>"
            ]
          },
          "metadata": {
            "tags": [],
            "needs_background": "light"
          }
        }
      ]
    },
    {
      "cell_type": "code",
      "metadata": {
        "id": "40Ba46IG-o2S",
        "colab_type": "code",
        "colab": {
          "base_uri": "https://localhost:8080/",
          "height": 265
        },
        "outputId": "ab01b6a9-d855-41c7-97ca-dec7b5b9c9a6"
      },
      "source": [
        "# B사 데이터의 박스플롯\n",
        "\n",
        "plt.boxplot((store_b))\n",
        "plt.grid()\n",
        "plt.show()"
      ],
      "execution_count": 58,
      "outputs": [
        {
          "output_type": "display_data",
          "data": {
            "image/png": "[encoded data removed]",
            "text/plain": [
              "<Figure size 432x288 with 1 Axes>"
            ]
          },
          "metadata": {
            "tags": [],
            "needs_background": "light"
          }
        }
      ]
    },
    {
      "cell_type": "code",
      "metadata": {
        "id": "8uIjN9X__B7s",
        "colab_type": "code",
        "colab": {
          "base_uri": "https://localhost:8080/",
          "height": 265
        },
        "outputId": "f3bbb434-9a71-41e2-8246-ab159cc58596"
      },
      "source": [
        "store_a = pd.Series([20,21,23,22,26,28,35,35,41,42,43,45,44,45,46,47,47,46,47,58,58,59,60,56,57,57,80])\n",
        "store_b = pd.Series([5,6,11,13,15,16,20,20,21,23,22,27,27,30,30,32,36,37,37,40,40,43,44,45,51,54,70])\n",
        "#B사의 600데이터 삭제\n",
        "\n",
        "# A사와 B사의 박스플롯\n",
        "plt.boxplot((store_a, store_b))\n",
        "plt.grid()\n",
        "plt.show()"
      ],
      "execution_count": 60,
      "outputs": [
        {
          "output_type": "display_data",
          "data": {
            "image/png": "[encoded data removed]",
            "text/plain": [
              "<Figure size 432x288 with 1 Axes>"
            ]
          },
          "metadata": {
            "tags": [],
            "needs_background": "light"
          }
        }
      ]
    },
    {
      "cell_type": "markdown",
      "metadata": {
        "id": "DqX7iOZG_YN-",
        "colab_type": "text"
      },
      "source": [
        "600이라는 수치는 이상치 인데 이 기준은 어디서 오는가?\n",
        "\n",
        "IQR(InterQuartile Range)\n",
        "\n",
        "IQR 즉, '사분범위'의 1.5배를 기준으로 산정\n",
        "\n",
        "사분범위 - 중앙에서 50%의 범위를 뽑아서 본다\n",
        "\n",
        "양쪽의 25%를 뺀 50%\n",
        "\n",
        "50%의 범위 IQR = Q3 - Q1\n",
        "ex) 16 21 22 23 24 25 30\n",
        "16 21 - 25%\n",
        "22 23 24 - 50%\n",
        "25 30 - 25%"
      ]
    },
    {
      "cell_type": "code",
      "metadata": {
        "id": "nlbvyGauATSO",
        "colab_type": "code",
        "colab": {
          "base_uri": "https://localhost:8080/",
          "height": 433
        },
        "outputId": "0b6f1446-f08f-4b65-deb4-295b56f6cd95"
      },
      "source": [
        "box_num = pd.Series([16,21,22,23,24,25,30])\n",
        "\n",
        "plt.boxplot(box_num)\n",
        "plt.grid()\n",
        "plt.show()\n",
        "\n",
        "print(box_num.describe())\n"
      ],
      "execution_count": 69,
      "outputs": [
        {
          "output_type": "display_data",
          "data": {
            "image/png": "[encoded data removed]",
            "text/plain": [
              "<Figure size 432x288 with 1 Axes>"
            ]
          },
          "metadata": {
            "tags": [],
            "needs_background": "light"
          }
        },
        {
          "output_type": "stream",
          "text": [
            "count     7.000000\n",
            "mean     23.000000\n",
            "std       4.242641\n",
            "min      16.000000\n",
            "25%      21.500000\n",
            "50%      23.000000\n",
            "75%      24.500000\n",
            "max      30.000000\n",
            "dtype: float64\n"
          ],
          "name": "stdout"
        }
      ]
    },
    {
      "cell_type": "code",
      "metadata": {
        "id": "BGtA3LU5Ak9J",
        "colab_type": "code",
        "colab": {
          "base_uri": "https://localhost:8080/",
          "height": 251
        },
        "outputId": "e1f7f336-485f-47a1-d961-3a1ef46a5660"
      },
      "source": [
        "# 양쪽의 범위를 구하기\n",
        "\n",
        "# 첫번째, 사분범위에 1.5를 곱해줌\n",
        "IQR = Q3 - Q1\n",
        "print(\"IQR : \". IQR)\n",
        "STEP1 = IQR * 1.5\n",
        "print(\"STEP1 : \". STEP1)\n",
        "\n",
        "# 두번째, 하단 이상치 기준선은 1사분위수에서 사분범위의 1.5배 값을 빼준 다음, 이 값을 기준으로 이 값보다 작으면 이상치로 간주\n",
        "Lower_fence = Q1 - STEP1\n",
        "print(Lower_fence)\n",
        "\n",
        "# 세번째, 상단 이상치 기준선은 3사분위수에서 사분범위의 1.5배 값을 더해준 다음, 이 값을 기준으로 이 값보다 크면 이상치로 간주\n",
        "Upper_fence = Q3 + STEP1\n",
        "print(Upper_fence)"
      ],
      "execution_count": 73,
      "outputs": [
        {
          "output_type": "error",
          "ename": "NameError",
          "evalue": "ignored",
          "traceback": [
            "\u001b[0;31m---------------------------------------------------------------------------\u001b[0m",
            "\u001b[0;31mNameError\u001b[0m                                 Traceback (most recent call last)",
            "\u001b[0;32m<ipython-input-73-bf161f26cce1>\u001b[0m in \u001b[0;36m<module>\u001b[0;34m()\u001b[0m\n\u001b[1;32m      2\u001b[0m \u001b[0;34m\u001b[0m\u001b[0m\n\u001b[1;32m      3\u001b[0m \u001b[0;31m# 첫번째, 사분범위에 1.5를 곱해줌\u001b[0m\u001b[0;34m\u001b[0m\u001b[0;34m\u001b[0m\u001b[0;34m\u001b[0m\u001b[0m\n\u001b[0;32m----> 4\u001b[0;31m \u001b[0mIQR\u001b[0m \u001b[0;34m=\u001b[0m \u001b[0mQ3\u001b[0m \u001b[0;34m-\u001b[0m \u001b[0mQ1\u001b[0m\u001b[0;34m\u001b[0m\u001b[0;34m\u001b[0m\u001b[0m\n\u001b[0m\u001b[1;32m      5\u001b[0m \u001b[0mprint\u001b[0m\u001b[0;34m(\u001b[0m\u001b[0;34m\"IQR : \"\u001b[0m\u001b[0;34m.\u001b[0m \u001b[0mIQR\u001b[0m\u001b[0;34m)\u001b[0m\u001b[0;34m\u001b[0m\u001b[0;34m\u001b[0m\u001b[0m\n\u001b[1;32m      6\u001b[0m \u001b[0mSTEP1\u001b[0m \u001b[0;34m=\u001b[0m \u001b[0mIQR\u001b[0m \u001b[0;34m*\u001b[0m \u001b[0;36m1.5\u001b[0m\u001b[0;34m\u001b[0m\u001b[0;34m\u001b[0m\u001b[0m\n",
            "\u001b[0;31mNameError\u001b[0m: name 'Q3' is not defined"
          ]
        }
      ]
    },
    {
      "cell_type": "markdown",
      "metadata": {
        "id": "KXN-NzeQCzrZ",
        "colab_type": "text"
      },
      "source": [
        "1. '평균과의 거리를 제곱한 값의 평균'을 나타내는 것은 보기 중 무엇인가?\n",
        "- 분산\n",
        "\n",
        "2. 최빈값,중앙값, 평균이 같은 선상에 위치한 확률분포는 무엇인가?\n",
        "- 정규분포\n",
        "\n",
        "3. 분산이 25인 데이터의 표준편차\n",
        "- 5 -> 제곱근의 값이 25"
      ]
    }
  ]
}