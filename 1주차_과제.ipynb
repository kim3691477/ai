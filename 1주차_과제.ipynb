{
  "nbformat": 4,
  "nbformat_minor": 0,
  "metadata": {
    "colab": {
      "name": "1주차 과제",
      "provenance": [],
      "authorship_tag": "ABX9TyOFnasFdJfXZB0TcVC+HseV",
      "include_colab_link": true
    },
    "kernelspec": {
      "name": "python3",
      "display_name": "Python 3"
    }
  },
  "cells": [
    {
      "cell_type": "markdown",
      "metadata": {
        "id": "view-in-github",
        "colab_type": "text"
      },
      "source": [
        "<a href=\"https://colab.research.google.com/github/kim3691477/ai/blob/master/1%EC%A3%BC%EC%B0%A8_%EA%B3%BC%EC%A0%9C.ipynb\" target=\"_parent\"><img src=\"https://colab.research.google.com/assets/colab-badge.svg\" alt=\"Open In Colab\"/></a>"
      ]
    },
    {
      "cell_type": "markdown",
      "metadata": {
        "id": "ELVhsd4al2Jr",
        "colab_type": "text"
      },
      "source": [
        "인공지능 언어 - 대표적인 구글의 번역기가 있으며, 파파고 언어 번역기도 있고, 지금은 수화를 번역하는 번역기, 동물의 말을 번역해주는 번역기 등이 개발 중이다.\n",
        "\n",
        "인공지능 음성 - 국내 음성인식 스피커는 SK의 누구, KT의 기가지니, 네이버의 웨이브, 카카오의 카카오미니 LG의 씽큐허브가 있다.\n",
        "\n",
        "인공지능 이미지 - 이미지 인식 및 분석하는 애플리케이션으로 Amazon Rekognition이라고 있으며, 딥 러닝 기반으로 심층 신경망 모델을 사용했으며, 객체, 장면 및 얼굴을 탐지하고, 유명인사를 인식하고, 이미지에서 부적절한 콘텐츠를 식별도 가능하고, 얼굴을 검색하거나 비교도 가능하다.\n",
        "\n",
        "인공지능 자율주행 - 국내 자율주행 자동차를 개발중인 SWM이 있으며, 해외에서는 테슬라 오토파일럿(NOA), 벤츠의 벤츠ESF가 있다."
      ]
    }
  ]
}