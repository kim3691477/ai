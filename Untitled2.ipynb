{
  "nbformat": 4,
  "nbformat_minor": 0,
  "metadata": {
    "colab": {
      "name": "Untitled2.ipynb",
      "provenance": [],
      "collapsed_sections": [],
      "authorship_tag": "ABX9TyPCcga+6rZWHTNuFc5ks9Kv",
      "include_colab_link": true
    },
    "kernelspec": {
      "name": "python3",
      "display_name": "Python 3"
    }
  },
  "cells": [
    {
      "cell_type": "markdown",
      "metadata": {
        "id": "view-in-github",
        "colab_type": "text"
      },
      "source": [
        "<a href=\"https://colab.research.google.com/github/kim3691477/ai/blob/master/Untitled2.ipynb\" target=\"_parent\"><img src=\"https://colab.research.google.com/assets/colab-badge.svg\" alt=\"Open In Colab\"/></a>"
      ]
    },
    {
      "cell_type": "markdown",
      "metadata": {
        "id": "Y3bV9qV-FlCf",
        "colab_type": "text"
      },
      "source": [
        "3주차 1강 - 파이썬 심화\n",
        "\n",
        "딕셔너리 자료형 - 딕셔너리 자료형은 서로 대응 관계를 가진 데이터로 이루어진 자료형, 대응관계는 키(key)와 값(value)로 표현, 딕셔너리 자료형은 키로 인덱싱을 하여 접근할 수 있음\n",
        "\n",
        "JSON(JavaScript Object Notation) - 데이터를 효율적으로 저장하고 교환하는데 사용\n",
        "\n",
        "이름과 값\n",
        "정렬된 값의 리스트로 두 개의 구조로 이루어짐\n",
        "\n",
        "Python의 list, tuple은 JSON으로 바뀌면 array로 바뀜\n",
        "JSON의 array는 Python으로 바뀌면 list로 바뀜\n",
        "\n",
        "Python의 객체를 JSON으로 변환하기 위해서는\n",
        "json.dumps를 사용한다. 하지만 가독성이 낮다\n",
        "\n",
        "indent=4를 사용하여 들여쓰기 설정, sort_keys=True를 사용하여 key정렬을 할 수 있다.\n",
        "\n",
        "Open API(Application Programming Interface) -  인터넷 이용자가 웹 검색 결과 및 사용자 인터페이스 등을 수동적으로 제공받는데 그치지 않고 직접 응용 프로그램과 서비스를 개발할 수 있도록 공개된 API, 인터넷 이용자가 웹 검색 결과 즉 데이터를 우리가 지정한 조건에 맞게끔 가져올 수 있는 도구\n",
        "\n",
        "Open API를 활용하려면 해당 업체에서 제공해 주는 '키'가 필요\n",
        "\n",
        "필요한 데이터 확인, 데이터 공급형태 확인, 데이터 정재"
      ]
    },
    {
      "cell_type": "code",
      "metadata": {
        "id": "Xu9EqwmXIpsE",
        "colab_type": "code",
        "outputId": "af710cc9-c55b-4571-a50c-402ca3b4c842",
        "colab": {
          "base_uri": "https://localhost:8080/",
          "height": 1000
        }
      },
      "source": [
        "import json\n",
        "import requests\n",
        "\n",
        "url = \"http://www.kobis.or.kr/kobisopenapi/webservice/rest/boxoffice/searchDailyBoxOfficeList.json?key=50ee936c7380f8675b6bb4de9a74212e&targetDt=20200501\"\n",
        "\n",
        "res = requests. get(url)\n",
        "text = res.text\n",
        "MD_json = json.loads(text)\n",
        "\n",
        "print(json.dumps(MD_json,indent=4,sort_keys=True))\n"
      ],
      "execution_count": 0,
      "outputs": [
        {
          "output_type": "stream",
          "text": [
            "{\n",
            "    \"boxOfficeResult\": {\n",
            "        \"boxofficeType\": \"\\uc77c\\ubcc4 \\ubc15\\uc2a4\\uc624\\ud53c\\uc2a4\",\n",
            "        \"dailyBoxOfficeList\": [\n",
            "            {\n",
            "                \"audiAcc\": \"35054\",\n",
            "                \"audiChange\": \"-42.5\",\n",
            "                \"audiCnt\": \"8822\",\n",
            "                \"audiInten\": \"-6530\",\n",
            "                \"movieCd\": \"20205402\",\n",
            "                \"movieNm\": \"\\ud2b8\\ub864: \\uc6d4\\ub4dc \\ud22c\\uc5b4\",\n",
            "                \"openDt\": \"2020-04-29\",\n",
            "                \"rank\": \"1\",\n",
            "                \"rankInten\": \"0\",\n",
            "                \"rankOldAndNew\": \"OLD\",\n",
            "                \"rnum\": \"1\",\n",
            "                \"salesAcc\": \"260552580\",\n",
            "                \"salesAmt\": \"70128520\",\n",
            "                \"salesChange\": \"-41.7\",\n",
            "                \"salesInten\": \"-50148640\",\n",
            "                \"salesShare\": \"12.2\",\n",
            "                \"scrnCnt\": \"281\",\n",
            "                \"showCnt\": \"791\"\n",
            "            },\n",
            "            {\n",
            "                \"audiAcc\": \"26844\",\n",
            "                \"audiChange\": \"-35.7\",\n",
            "                \"audiCnt\": \"7279\",\n",
            "                \"audiInten\": \"-4038\",\n",
            "                \"movieCd\": \"20197397\",\n",
            "                \"movieNm\": \"\\ub098\\uc758 \\uccad\\ucd98\\uc740 \\ub108\\uc758 \\uac83\",\n",
            "                \"openDt\": \"2020-04-29\",\n",
            "                \"rank\": \"2\",\n",
            "                \"rankInten\": \"0\",\n",
            "                \"rankOldAndNew\": \"OLD\",\n",
            "                \"rnum\": \"2\",\n",
            "                \"salesAcc\": \"214754760\",\n",
            "                \"salesAmt\": \"64189060\",\n",
            "                \"salesChange\": \"-34\",\n",
            "                \"salesInten\": \"-33132640\",\n",
            "                \"salesShare\": \"11.2\",\n",
            "                \"scrnCnt\": \"533\",\n",
            "                \"showCnt\": \"933\"\n",
            "            },\n",
            "            {\n",
            "                \"audiAcc\": \"10601\",\n",
            "                \"audiChange\": \"333.9\",\n",
            "                \"audiCnt\": \"6391\",\n",
            "                \"audiInten\": \"4918\",\n",
            "                \"movieCd\": \"20173226\",\n",
            "                \"movieNm\": \"\\ud328\\uc655\\ubcc4\\ud76c \\ub514 \\uc624\\ub9ac\\uc9c0\\ub110\",\n",
            "                \"openDt\": \"2017-03-30\",\n",
            "                \"rank\": \"3\",\n",
            "                \"rankInten\": \"11\",\n",
            "                \"rankOldAndNew\": \"OLD\",\n",
            "                \"rnum\": \"3\",\n",
            "                \"salesAcc\": \"97138740\",\n",
            "                \"salesAmt\": \"59316340\",\n",
            "                \"salesChange\": \"342.3\",\n",
            "                \"salesInten\": \"45904840\",\n",
            "                \"salesShare\": \"10.4\",\n",
            "                \"scrnCnt\": \"320\",\n",
            "                \"showCnt\": \"397\"\n",
            "            },\n",
            "            {\n",
            "                \"audiAcc\": \"23082\",\n",
            "                \"audiChange\": \"-37\",\n",
            "                \"audiCnt\": \"6150\",\n",
            "                \"audiInten\": \"-3615\",\n",
            "                \"movieCd\": \"20181685\",\n",
            "                \"movieNm\": \"\\ud638\\ud154 \\ub808\\uc774\\ud06c\",\n",
            "                \"openDt\": \"2020-04-29\",\n",
            "                \"rank\": \"4\",\n",
            "                \"rankInten\": \"0\",\n",
            "                \"rankOldAndNew\": \"OLD\",\n",
            "                \"rnum\": \"4\",\n",
            "                \"salesAcc\": \"184976280\",\n",
            "                \"salesAmt\": \"54055380\",\n",
            "                \"salesChange\": \"-36.1\",\n",
            "                \"salesInten\": \"-30486120\",\n",
            "                \"salesShare\": \"9.4\",\n",
            "                \"scrnCnt\": \"444\",\n",
            "                \"showCnt\": \"776\"\n",
            "            },\n",
            "            {\n",
            "                \"audiAcc\": \"28309\",\n",
            "                \"audiChange\": \"-43.8\",\n",
            "                \"audiCnt\": \"5880\",\n",
            "                \"audiInten\": \"-4578\",\n",
            "                \"movieCd\": \"20207722\",\n",
            "                \"movieNm\": \"\\uc800 \\uc0b0 \\ub108\\uba38\",\n",
            "                \"openDt\": \"2020-04-30\",\n",
            "                \"rank\": \"5\",\n",
            "                \"rankInten\": \"-2\",\n",
            "                \"rankOldAndNew\": \"OLD\",\n",
            "                \"rnum\": \"5\",\n",
            "                \"salesAcc\": \"188576760\",\n",
            "                \"salesAmt\": \"48828300\",\n",
            "                \"salesChange\": \"-42.8\",\n",
            "                \"salesInten\": \"-36587160\",\n",
            "                \"salesShare\": \"8.5\",\n",
            "                \"scrnCnt\": \"437\",\n",
            "                \"showCnt\": \"782\"\n",
            "            },\n",
            "            {\n",
            "                \"audiAcc\": \"13956005\",\n",
            "                \"audiChange\": \"-36.2\",\n",
            "                \"audiCnt\": \"5624\",\n",
            "                \"audiInten\": \"-3185\",\n",
            "                \"movieCd\": \"20184889\",\n",
            "                \"movieNm\": \"\\uc5b4\\ubca4\\uc838\\uc2a4: \\uc5d4\\ub4dc\\uac8c\\uc784\",\n",
            "                \"openDt\": \"2019-04-24\",\n",
            "                \"rank\": \"6\",\n",
            "                \"rankInten\": \"-1\",\n",
            "                \"rankOldAndNew\": \"OLD\",\n",
            "                \"rnum\": \"6\",\n",
            "                \"salesAcc\": \"122338260260\",\n",
            "                \"salesAmt\": \"40896600\",\n",
            "                \"salesChange\": \"-34.9\",\n",
            "                \"salesInten\": \"-21883500\",\n",
            "                \"salesShare\": \"7.1\",\n",
            "                \"scrnCnt\": \"479\",\n",
            "                \"showCnt\": \"647\"\n",
            "            },\n",
            "            {\n",
            "                \"audiAcc\": \"18761\",\n",
            "                \"audiChange\": \"-36.6\",\n",
            "                \"audiCnt\": \"4745\",\n",
            "                \"audiInten\": \"-2736\",\n",
            "                \"movieCd\": \"20206441\",\n",
            "                \"movieNm\": \"\\ub9c8\\uc774 \\uc2a4\\ud30c\\uc774\",\n",
            "                \"openDt\": \"2020-04-29\",\n",
            "                \"rank\": \"7\",\n",
            "                \"rankInten\": \"-1\",\n",
            "                \"rankOldAndNew\": \"OLD\",\n",
            "                \"rnum\": \"7\",\n",
            "                \"salesAcc\": \"145620900\",\n",
            "                \"salesAmt\": \"42848900\",\n",
            "                \"salesChange\": \"-34.3\",\n",
            "                \"salesInten\": \"-22399500\",\n",
            "                \"salesShare\": \"7.5\",\n",
            "                \"scrnCnt\": \"232\",\n",
            "                \"showCnt\": \"584\"\n",
            "            },\n",
            "            {\n",
            "                \"audiAcc\": \"829721\",\n",
            "                \"audiChange\": \"-37.7\",\n",
            "                \"audiCnt\": \"4482\",\n",
            "                \"audiInten\": \"-2710\",\n",
            "                \"movieCd\": \"20192399\",\n",
            "                \"movieNm\": \"1917\",\n",
            "                \"openDt\": \"2020-02-19\",\n",
            "                \"rank\": \"8\",\n",
            "                \"rankInten\": \"-1\",\n",
            "                \"rankOldAndNew\": \"OLD\",\n",
            "                \"rnum\": \"8\",\n",
            "                \"salesAcc\": \"7508746440\",\n",
            "                \"salesAmt\": \"38905780\",\n",
            "                \"salesChange\": \"-35.8\",\n",
            "                \"salesInten\": \"-21670100\",\n",
            "                \"salesShare\": \"6.8\",\n",
            "                \"scrnCnt\": \"306\",\n",
            "                \"showCnt\": \"440\"\n",
            "            },\n",
            "            {\n",
            "                \"audiAcc\": \"3706331\",\n",
            "                \"audiChange\": \"-36.1\",\n",
            "                \"audiCnt\": \"3278\",\n",
            "                \"audiInten\": \"-1851\",\n",
            "                \"movieCd\": \"20167904\",\n",
            "                \"movieNm\": \"\\ub77c\\ub77c\\ub79c\\ub4dc\",\n",
            "                \"openDt\": \"2016-12-07\",\n",
            "                \"rank\": \"9\",\n",
            "                \"rankInten\": \"-1\",\n",
            "                \"rankOldAndNew\": \"OLD\",\n",
            "                \"rnum\": \"9\",\n",
            "                \"salesAcc\": \"30673162868\",\n",
            "                \"salesAmt\": \"17286460\",\n",
            "                \"salesChange\": \"-35.4\",\n",
            "                \"salesInten\": \"-9492720\",\n",
            "                \"salesShare\": \"3.0\",\n",
            "                \"scrnCnt\": \"289\",\n",
            "                \"showCnt\": \"437\"\n",
            "            },\n",
            "            {\n",
            "                \"audiAcc\": \"11224539\",\n",
            "                \"audiChange\": \"-41.9\",\n",
            "                \"audiCnt\": \"2648\",\n",
            "                \"audiInten\": \"-1911\",\n",
            "                \"movieCd\": \"20177478\",\n",
            "                \"movieNm\": \"\\uc5b4\\ubca4\\uc838\\uc2a4: \\uc778\\ud53c\\ub2c8\\ud2f0 \\uc6cc\",\n",
            "                \"openDt\": \"2018-04-25\",\n",
            "                \"rank\": \"10\",\n",
            "                \"rankInten\": \"0\",\n",
            "                \"rankOldAndNew\": \"OLD\",\n",
            "                \"rnum\": \"10\",\n",
            "                \"salesAcc\": \"100017693049\",\n",
            "                \"salesAmt\": \"20258880\",\n",
            "                \"salesChange\": \"-41.1\",\n",
            "                \"salesInten\": \"-14121440\",\n",
            "                \"salesShare\": \"3.5\",\n",
            "                \"scrnCnt\": \"364\",\n",
            "                \"showCnt\": \"459\"\n",
            "            }\n",
            "        ],\n",
            "        \"showRange\": \"20200501~20200501\"\n",
            "    }\n",
            "}\n"
          ],
          "name": "stdout"
        }
      ]
    },
    {
      "cell_type": "code",
      "metadata": {
        "id": "d4PQx1X9I-4A",
        "colab_type": "code",
        "outputId": "a1a94cd2-7ae9-4355-8cda-dbb419c2f705",
        "colab": {
          "base_uri": "https://localhost:8080/",
          "height": 233
        }
      },
      "source": [
        "print(MD_json.keys())\n",
        "print(MD_json['boxOfficeResult'].keys())\n",
        "\n",
        "for i in MD_json['boxOfficeResult']['dailyBoxOfficeList'] :\n",
        "  print(i['rank'], i['rankOldAndNew'], i['movieCd'], i['movieNm'], i['salesAmt'])"
      ],
      "execution_count": 0,
      "outputs": [
        {
          "output_type": "stream",
          "text": [
            "dict_keys(['boxOfficeResult'])\n",
            "dict_keys(['boxofficeType', 'showRange', 'dailyBoxOfficeList'])\n",
            "1 OLD 20205402 트롤: 월드 투어 70128520\n",
            "2 OLD 20197397 나의 청춘은 너의 것 64189060\n",
            "3 OLD 20173226 패왕별희 디 오리지널 59316340\n",
            "4 OLD 20181685 호텔 레이크 54055380\n",
            "5 OLD 20207722 저 산 너머 48828300\n",
            "6 OLD 20184889 어벤져스: 엔드게임 40896600\n",
            "7 OLD 20206441 마이 스파이 42848900\n",
            "8 OLD 20192399 1917 38905780\n",
            "9 OLD 20167904 라라랜드 17286460\n",
            "10 OLD 20177478 어벤져스: 인피니티 워 20258880\n"
          ],
          "name": "stdout"
        }
      ]
    },
    {
      "cell_type": "code",
      "metadata": {
        "id": "M5_0NZAtKNVU",
        "colab_type": "code",
        "outputId": "c300fe40-58a4-4e60-c9a5-4cae1313e7dc",
        "colab": {
          "base_uri": "https://localhost:8080/",
          "height": 197
        }
      },
      "source": [
        "import pandas as pd \n",
        "\n",
        "movie = []\n",
        "\n",
        "for i in MD_json['boxOfficeResult']['dailyBoxOfficeList'] :\n",
        "  print(i['rank'], i['rankOldAndNew'], i['movieCd'], i['movieNm'], i['salesAmt'])\n",
        "\n",
        "data = pd.DataFrame(movie)"
      ],
      "execution_count": 0,
      "outputs": [
        {
          "output_type": "stream",
          "text": [
            "1 OLD 20205402 트롤: 월드 투어 70128520\n",
            "2 OLD 20197397 나의 청춘은 너의 것 64189060\n",
            "3 OLD 20173226 패왕별희 디 오리지널 59316340\n",
            "4 OLD 20181685 호텔 레이크 54055380\n",
            "5 OLD 20207722 저 산 너머 48828300\n",
            "6 OLD 20184889 어벤져스: 엔드게임 40896600\n",
            "7 OLD 20206441 마이 스파이 42848900\n",
            "8 OLD 20192399 1917 38905780\n",
            "9 OLD 20167904 라라랜드 17286460\n",
            "10 OLD 20177478 어벤져스: 인피니티 워 20258880\n"
          ],
          "name": "stdout"
        }
      ]
    },
    {
      "cell_type": "markdown",
      "metadata": {
        "id": "ZHgQR_bcKzzP",
        "colab_type": "text"
      },
      "source": [
        "1. dictionary 자료형은 키와 값으로 이루여져 있다.\n",
        "- O\n",
        "\n",
        "2. API 제공자는 너무 과도한 사용이나 무분별한 사용을 막고 관리하기 위해 사용자에게 이것을 제공한다.\n",
        "- 키\n",
        "\n",
        "3. 공공기관이 만들어 내는 모든 자료나 정보, 그리고 국민 모두의 소통과 협력을 이글어 내는 공적인 정보(데이터)란 무엇인가?\n",
        "- 공공데이터 (DATA.GO.KR)"
      ]
    },
    {
      "cell_type": "markdown",
      "metadata": {
        "id": "s7OQAtZaLneJ",
        "colab_type": "text"
      },
      "source": [
        "3주차 2강 - 머신러닝을 위한 기초 수학[2]\n",
        "\n",
        "머신러닝의 핵심 -  과거의 관측을 기반으로 새로운 샘플의 결과값을 예측\n",
        "\n",
        "편찬 : 개별 자료와 전체 자료 평균의 간 차이\n",
        "\n",
        "분산 : 편차의 제곱을 모두 더해 평균낸 값\n",
        "\n",
        "(오차의 합계 식)목적함수 - 각각의 학습 데이터마다, 실제 결괏값과 예측한 결괏값의 오차를 제곱해서 모두 더해서 그것에 1/2를 한다. - 최적화 문제\n",
        "\n",
        "제곱을 하는 이유 - 음수를 만들지 않기 위해\n",
        "\n",
        "경사 하강법 - 목적함수의 값을 최소화 시키기 위해 마치 경사를 내려가듯 최소값을 찾는 기법\n",
        "\n",
        "미분 - 어떤 구간에서의 그래프의 기울기를 구하는 것과 같다고 말할 수 있음, 간격을 좁혀가면서 기울기를 구함\n",
        "\n",
        "학습률의 값을 크게 잡으면 최솟값에서 멀어지는 '발산'\n",
        "학습률의 값을 작게 잡으면 최솟값에 수렴하기 까지 많은 시간이 걸림\n",
        "\n",
        "1. 표준편차가 7인 데이터의 분산을 구하시오\n",
        "- 49\n",
        "\n",
        "2. 함수 기울기를 낮은 쪽으로 계속 이동시켜서 극값에 이를 때까지 반복시키는 것으로 학습을 통해 모델의 최적 파라미터를 찾는 것이 목표인 이 방법은 무엇인가?\n",
        "- 경사하강법"
      ]
    },
    {
      "cell_type": "markdown",
      "metadata": {
        "id": "7QkYIL4Pu-Pr",
        "colab_type": "text"
      },
      "source": [
        "3주차 3강 - 머신러닝을 위한 기초 수학[3]\n",
        "\n",
        "편미분 - 다변수 함수를 미분할 때는 미분할 변수에만 주목하고 다른 변수는 모두 상수로 취급해서 계산하는 미분법\n",
        "\n",
        "상수를 미분하면 0이 됨\n",
        "\n",
        "합성함수 - 여러개의 함수가 합쳐진 것\n",
        "\n",
        "다항식 회귀 - 다항식의 차수를 늘린 함수를 사용하는 것\n",
        "\n",
        "1. h(x, y) = y³ - y² + 3y + x 를 x로 편미분해라\n",
        "- 1\n",
        "\n",
        "2. h(x, y) = 3x²y + y² - 70y - 2 를 x로 편미분해라\n",
        "- 6xy\n",
        "\n",
        "3. 머신러닝에서 학습 데이터를 과하게 학습하여 학습 데이터에서는 정확도가 높지만 실제 데이터에서는 오차가 발생하는 것을 뜻하는 용어는 무엇인가\n",
        "- 과적합"
      ]
    },
    {
      "cell_type": "markdown",
      "metadata": {
        "id": "XzPRaCCUopnY",
        "colab_type": "text"
      },
      "source": [
        "3주차 4강 - 머신러닝 분류문제[1]\n",
        "\n",
        "퍼셉트론 - 여러개의 입력을 받아 각각의 값에 가중치를 곱한 후 모두 더한 것이 출력되는 형태의 모델\n",
        "\n",
        "퍼셉트론 알고리즘은 너무도 단순한 모델이기에, 선형적으로 구분되지 않는 데이터셋에는 수렴하지 못한다는 단점이 있음\n",
        "\n",
        "로지스틱 회귀 - 분류를 확률로 생각하는 방식\n",
        "어느 클래스에 분류 되는지 구하는 것(함수가 필요)\n",
        "\n",
        "로지스틱 시그모이드 함수 - 1 <-> 0 에 수렴하기에\n",
        "확률처럼 다룰 수 있음\n",
        "\n",
        "결정 경계 - 기본 벡터공간을 각 클래스에 대하여 하나씩 두 개의 집합으로 나누는 초표면이다. 분류기는 결정 경계의 한쪽에 있는 모든 점을 한 클래스, 다른 한쪽에 있는 모든 점을 다른 클래스에 속하는 것으로 분류\n",
        "\n",
        "서포터벡터머신(SVM) - 마진을 최대화\n",
        "\n",
        " 마진 - 초평면(결정경계)과 가장 가까운 훈련 데이터들 사이의 거리로 정의 - 이러한 데이터를 서포트 벡터라고 함\n",
        "\n",
        "일반화를 진행했을 때 오차가 낮아지는 경향이 있기때문에 사용\n",
        "\n",
        "선형 분리 불가능 문제에도 강함\n",
        "2차원 공간에서 3차원 공간으로 옮기고 데이터들을 분류하기 위한 분리 가능 공간을 생성함 그리고 다시 2차원 공간으로 옮겨오면 비선형 결정 경계로 바뀌게 된다\n",
        "\n",
        "단점 - 계산비용\n",
        "\n",
        "2차원 공간 분포 데이터를 3차원 공간 분포 데이터로 옮기면서 매핑하다 보니 새로운 특성을 생성해야 함 상당한 컴퓨팅 파워가 필요\n",
        "\n",
        "비용을 절감하기 위한 새로운 기법 - 커널 기법\n",
        "\n",
        "1. 머신러닝을 통해 문제를 해결 할 때 보통 여러 알고리즘을 비교하여 사용하기 보다는 사용자가 잘 활용 할 수 있는 하나의 알고리즘만을 사용하여 문제를 해결 하는게 일반적이다.\n",
        "- X\n",
        "\n",
        "2. 로지스틱 시그모이드 함수를 활용하여 데이터를 분류하는 알고리즘은 무엇인가?\n",
        "- 로지스틱회귀\n",
        "\n",
        "3. 서포트 백터 머신(SVM)은 정확도가 높고 계산 비용이 적다는 장점 때문에 많은 연구에서 사용되고 있다.\n",
        "- X (계산비용 높음)"
      ]
    },
    {
      "cell_type": "code",
      "metadata": {
        "id": "7UhWDPWUsRoa",
        "colab_type": "code",
        "colab": {}
      },
      "source": [
        "import matplotlib.pyplot as plt\n",
        "import numpy as np\n",
        "\n",
        "def sigmoid(z):\n",
        "  return 1.0 / (1.0 + np.exp(-z))\n",
        "                        #ㄴ>지수함수\n",
        "z = np.arange(-7,7,0.1) #간격은 촘촘하게\n",
        "f_x = sigmoid(z)"
      ],
      "execution_count": 0,
      "outputs": []
    },
    {
      "cell_type": "markdown",
      "metadata": {
        "id": "yOoB8dYtFgD2",
        "colab_type": "text"
      },
      "source": [
        "3주차 5강 - 머신러닝 분류문제[2]\n",
        "\n",
        "결정트리학습 - 설명이 아주 중요할때 사용하면 좋음\n",
        "일련의 질문에 통해 데이터를 분해하는 모델\n",
        "범주형 변수와 실수형 변수가 적용된다는 점이 매력적임\n",
        "결정 알고리즘을 사용하면 트리의 루트에서 시작해 정보이득이란 값이 최대가 되는 특성으로 데이터를 나눔\n",
        "리프 노드가 순수해질 때 까지 모든 자식 노드에서 이 분할 작업을 반복함\n",
        "\n",
        "트리 최대의 깊이 제한(트리 가지치기 - PRUNING) 과적합 방지\n",
        "\n",
        "결정트리학습의 목적함수의 목적 -  가장 정보가 풍부한 특성으로 노드를 나누기 위함 트리 알고리즘으로 최적화\n",
        "\n",
        "이진 분류를 하기 위해서는 어떠한 분할 조건 혹은 불순도 지표를 사용해야하는데 사용되는 3가지 불순도 지표, 분할 조건\n",
        "\n",
        "1) 지니 불순도(Gini impurity) - 잘못 분류될 확률을 최소화 하기 위한 기준, 가지치기 수준을 바꿔가며 실험 권장\n",
        "엔트로피처럼 클래스 분포가 균등할 때 최댓값이 아닌\n",
        "클래스가 완벽하게 섞여있을대 최대이다\n",
        "\n",
        "2) 엔트로피(entropy) - 한 노드의 모든 데이터가 같은 클래스라면 엔트로피는 0, 반대로 클래스 분포가 균등하다면 엔트로피는 최대 1\n",
        "트리의 상호 의존 정보를 최대화 하는 것\n",
        "\n",
        "3) 분류 오차(classification error) - 노드의 클래스 확률 변화에 둔감\n",
        "\n",
        "이 3가지의 불순도를 시각적으로 비교해보면 지니 불순도가 엔트로피와 분류 오차의 중간 정도에 위치\n",
        "\n",
        "구한 계수들을 바탕으로 분할된 노드에서 다시 특정 분류 기준에 의해 다시 자식 노드를 생성하고 이를 바탕으로 불순도를 구하며 가지를 뻗어 나간다.\n",
        "그리고 최종적으로 불순도가 0에 수렴, 즉 하나의 클래스만을 가진 노드가 될 때까지 이를 반복해서 진행\n",
        "과적합에 걸리지 않기 위해 가지가 뻗어 내려가는 정도 설정\n",
        "\n",
        "K-최근접이웃(KNN)\n",
        "1) 숫자 K와 거리 측정 기준을 선택(※유클리디안 거리 측정 방식)\n",
        "2) 분류하려는 미지의 데이터에서 K개의 최근접 이웃을 찾는다 (※우리가 설정한 K값)\n",
        "3) 다수결 투표를 진행, 투표 결과에 따라 미지의 데이터 클래스 레이블을 할당\n",
        "\n",
        "이 알고리즘의 핵심은 과적합과 과소적합 사이에서 올바른 균형을 잡기 위한 K값 설정이 중요\n",
        "차원의 저주(고정된 크기의 훈련 데이터셋 차원이 늘어남에 따라 특성 공간이 점점 희소해 지는 현상)라는 훈련 데이터셋이 차원이 늘어남에 따라 특성 공간도 점점 희소해지는 현승을 피하기 위해 올바른 변수의 선택, 차원 축소 기법 등을 사용\n",
        "\n",
        "학습을 진행하는 알고리즘\n",
        "데이터 정제 - 모델 학습 과정 진행 - 최종 하이퍼 파라미터 수정 - 일련의 과정을 모두 마침 - 학습 데이터 제거(데이터 저장 공간 불필요)\n",
        "\n",
        "KNN 알고리즘\n",
        "학습이란 개념이 없으니, 매번 알고리즘을 실행할 때마다 모든 학습데이터를 통해 분류를 진행, 즉 매번 학습 데이터가 필요하단 단점\n",
        "\n",
        "고차원 데이터로 실험을 진행한다면, 계산 복잡도 또한 훈련 데이터의 개수에 비례하여 증가하는 경우도 발생\n",
        "\n",
        "KNN은 데이터 정제만 잘해준다면 학습 과정이 없으니 빠르게 결과를 살펴볼 수 있다는 장점이 존재\n",
        "\n",
        "1. 결정 트리 학습(Decision tree)에서는 노드(node)를 _ _ _ _이 최대가 되는 특성으로 데이터를 나누게 된다.\n",
        "- 정보이득\n",
        "\n",
        "2. 결정 트리 학습(Decision tree)에서 너무 많은 분기로 인해 과적합 되는 걸 막기 위해 분기를 재조정하는 방법을 무엇이라 하는가?\n",
        "- 가지치기\n",
        "\n",
        "3. KNN 알고리즘에 대한 사실로 올바르지 않은 것은?\n",
        "1) 최적의 K를 선택하기 어렵다\n",
        "2) 고차원의 데이터나 데이터 수가 많아질수록 계산 비용이 높아진다.\n",
        "3) 충분한 알고리즘 학습 후 사용 가능하다.\n",
        "4) 학습 유형은 지도학습에 해당한다.\n",
        "- 3\n",
        "\n",
        "4. 고정된 크기의 훈련 데이터셋 차원이 늘어남에 따라 특성 공간이 점점 희소해 지는 현상을 무엇이라 하는가?\n",
        "- 차원의 저주"
      ]
    },
    {
      "cell_type": "markdown",
      "metadata": {
        "id": "5IeBc0bCNrw2",
        "colab_type": "text"
      },
      "source": [
        "3주차 6강 - 군집문제[1]\n",
        "\n",
        "비지도학습 군집분석 - 정답을 모르는 데이터 안에서 숨겨진 구조를 찾는것\n",
        "\n",
        "군집 알고리즘\n",
        "\n",
        "K-평균 - 매운 쉬운 구현성, 높은 계산 효율성, 프로토타입 기반 군집에 포함됨\n",
        "\n",
        "원형클러스터를 표현하는데에는 뛰어남, 사전에 몇개의 클러스터를 만들것인지에 대해 직접 지정해 줘야한다는 다소 사람의 판단이 개입\n",
        "적잘한k값을 선택하면 높은 성능, 부적절한k값은 군집 성능 또한 보장할수 없음\n",
        "군집분석은 비지도 학습이니 클레스 레이블이 없다는 이야기\n",
        "\n",
        "프로토타입 기반 군집 - 각 클러스터가 하나의 프로토타입으로 표현된다는 의미\n",
        "\n",
        "※프로토타입 - 연속적인 특성에서는 비슷한 데이터 포인트의 센트로이드(centroid-평균)\n",
        "범주형 특성에서는 메도이드(medoid - 가장 자주 등장하는 포인트)\n",
        "\n",
        "\n",
        "\n"
      ]
    },
    {
      "cell_type": "code",
      "metadata": {
        "id": "lt0moQG9cqag",
        "colab_type": "code",
        "outputId": "a6e8189c-9b20-45f6-d064-2a498ad2bee2",
        "colab": {
          "base_uri": "https://localhost:8080/",
          "height": 297
        }
      },
      "source": [
        "from sklearn.datasets import make_blobs\n",
        "#150개, 2차원, 3개의 클러스터 혹은 중심, 클러스터의 표준표차값, 무작위, 시드값\n",
        "X,y = make_blobs(n_samples=150, \n",
        "                 n_features =2, \n",
        "                 centers=3, \n",
        "                 cluster_std=0.5, \n",
        "                 shuffle=True, \n",
        "                 random_state=0 )\n",
        "\n",
        "import matplotlib.pyplot as plt\n",
        "#2차원 산정도\n",
        "plt.scatter(X[:,0],  \n",
        "            X[:,1],\n",
        "            c='white',\n",
        "            marker='o',\n",
        "            edgecolor='black',\n",
        "            s=50)\n",
        "plt.grid()\n",
        "plt.tight_layout()\n",
        "plt.show()"
      ],
      "execution_count": 4,
      "outputs": [
        {
          "output_type": "display_data",
          "data": {
            "image/png": "[encoded data removed]",
            "text/plain": [
              "<Figure size 432x288 with 1 Axes>"
            ]
          },
          "metadata": {
            "tags": [],
            "needs_background": "light"
          }
        }
      ]
    },
    {
      "cell_type": "markdown",
      "metadata": {
        "id": "gqApFoK_eVvu",
        "colab_type": "text"
      },
      "source": [
        "특성의 유사도에 기초하여 데이터들을 그룹으로 모으는것\n",
        "\n",
        "K-평균 4단계 알고리즘\n",
        "1) 데이터 포인트에서 랜덤하게 K개의 센트로이드를 초기 클러스터 중심으로 선택\n",
        "2) 각 데이터를 가장 가까운 센트로이드에 할당합니다.\n",
        "3) 할당된 샘플들의 중심으로 센트로이드를 이동시킵니다.\n",
        "4) 클러스터 할당이 변하지 않거나, 사용자가 지정한 허용오차나, 최대 반복횟수에 도달할 때 까지 두번째와 세번째 과정을 반복합니다.\n",
        "\n",
        "유사도 측정은 일반적으로 임의의 차원 공간에 있는 두 데이터 포인트 X와Y 사이의 유클리디안 거리 혹은 유클리디안 거리 제곱 지표를 기반하여 간단한 최적화 문제로 K평균 알고리즘 설명 가능\n",
        "\n",
        "어떻게 최적화를 시키기는가? \n",
        "클러스터 내의 제곱 오차합(SSE)을 반복적으로 최소화\n",
        "각 데이터를 가장 가까운 센트로이드에 할당할 때마다, 센트로이드는 이동\n",
        "센트로이다가 변화할때마다 이러한 오차 제곱합을 반복적으로 계산하면서 변화량에 대한 허용 오차값이 일정 수준내로 들어온다면 더이상 클러스터가 변화하지 않는다는 것이고 최적화과 완료되었다라는 것이다.\n",
        "\n",
        "점들간의 거리를 측정할때, 점들간의 단위와 변동폭이 크다면\n",
        "왜곡이 일어남\n",
        "이러한 경우 왜곡을 줄이고자 거리 산출시 불필요한 항목간의 특성을 제거하고 단위를 일치시키는 '표준화' 과정을 진행하면 좀 더 좋은 결과를 가져올수 있다"
      ]
    },
    {
      "cell_type": "code",
      "metadata": {
        "id": "I3QIKAFTKKzz",
        "colab_type": "code",
        "colab": {}
      },
      "source": [
        "from sklearn.cluster import KMeans\n",
        "#객체화를 위한 코드, 클러스트는 개수 임의로 3개정도 할당, K평균 알고리즘 설정(초기중심좌표를 무작위로 선정하여 랜덤)\n",
        "#랜덤한 클러스터에서 독립적으로 몇번실행하여 가장 낮은 제곱 오차값을 만들것이냐를 물어보는것, 그리고 그 중 가장 낮은값을 만드는것을 선택\n",
        "#K평균 4단계알고리즘 2,3번째를 한번에 실행해서, 최대 몇번이냐 반복 수행할것이냐를 설정\n",
        "#다음에 설정하게 될 클러스터내의 제곱 오차합의 변화량 대한 허용 오차합값에 도달하게 되면 일찍 종료\n",
        "km = KMeans(n_clusters=3,\n",
        "            init='random',\n",
        "            n_init=10,\n",
        "            max_iter=300,\n",
        "            tol=1e-04,\n",
        "            random_state=0)\n",
        "#군집 분석 알고리즘에 의한 예측 클래스 레이블\n",
        "y_km = km.fit_predict(X)"
      ],
      "execution_count": 0,
      "outputs": []
    },
    {
      "cell_type": "markdown",
      "metadata": {
        "id": "2Ts9bpJOLkfH",
        "colab_type": "text"
      },
      "source": [
        "K평균 군집 알고리즘의 또다른 문제\n",
        "\n",
        "초기 센트로이드를 설정할 때, 랜덤으로 위치를 선정하다보니, 애초에 잘못 선정된 곳에서 시작한 경우와 더불어 데이터가 적은 악조건이 붙게 된다면 클러스터의 성능이 매우 불안정\n",
        "\n",
        "이러한 경우를 극복하기 위해, 초기 클러스터 센트로이드를 좀더 똑똑하게 할당할수 있는 방법이 등장->k-means++\n",
        "\n",
        "시각화 가능한 데이터가 아닌 고차원의 데이터는 임의 k값 설정이 위험부담이 높다\n",
        "\n",
        "클러스터가 중첩되지 않고, 계층적이지 않으며, 클러스터당 하나 이상의 데이터 존재\n",
        "\n"
      ]
    },
    {
      "cell_type": "code",
      "metadata": {
        "id": "XltSn-maRDfO",
        "colab_type": "code",
        "colab": {}
      },
      "source": [
        "#k-means++ 기본설정값\n",
        "km = KMeans(n_clusters=3,\n",
        "            init='k-means++',\n",
        "            n_init=10,\n",
        "            max_iter=300,\n",
        "            tol=1e-04,\n",
        "            random_state=0)\n",
        "#이 기법은 초기 센트로이드가 서로 멀리 떨어지도록 위치시킴"
      ],
      "execution_count": 0,
      "outputs": []
    },
    {
      "cell_type": "markdown",
      "metadata": {
        "id": "Vn4NeGxURvK-",
        "colab_type": "text"
      },
      "source": [
        "군집 품질을 평가해야 하는 경우 알고리즘 자체의 지표를 사용\n",
        "ex)k평균 군집의 성능을 비교하기 위해서는 클러스터 내 오차 제곱합을 사용\n",
        "\n",
        "사이킷런\n",
        "\n",
        "관성 - inertia\n",
        "\n",
        "엘보우 방법\n",
        "k값의 증가는 센트로이드의 증가\n",
        "이는 데이터들이 센트로이드에 더 가까워 지는 것\n",
        "자연스럽게 왜곡값(SSE)의 감소\n",
        "\n",
        "이 기법의 이면에 있는 아이디어가 바로 왜곡이 빠르게 증가하는 지점의 k값을 찾는 것"
      ]
    },
    {
      "cell_type": "code",
      "metadata": {
        "id": "ohiY8bw4fVvq",
        "colab_type": "code",
        "colab": {
          "base_uri": "https://localhost:8080/",
          "height": 297
        },
        "outputId": "b1f4edf2-729a-44e1-ae9b-814ec98da1e6"
      },
      "source": [
        "distortions=[]\n",
        "for i in range(1, 11):\n",
        "  km = KMeans(n_clusters=i,\n",
        "              init='k-means++',\n",
        "              n_init=10,\n",
        "              max_iter=300,\n",
        "              random_state=0)\n",
        "  km.fit(X)\n",
        "  distortions.append(km.inertia_) #append함수를 이용해 객체에 저장되어 있는 왜곡값을 차례대로 빈 리스트(distortions)에 저장\n",
        "\n",
        "plt.plot(range(1,11), distortions, marker='o')\n",
        "plt.xlabel('Number of clusters')\n",
        "plt.ylabel('Distortion')\n",
        "plt.tight_layout()\n",
        "plt.show()"
      ],
      "execution_count": 8,
      "outputs": [
        {
          "output_type": "display_data",
          "data": {
            "image/png": "[encoded data removed]",
            "text/plain": [
              "<Figure size 432x288 with 1 Axes>"
            ]
          },
          "metadata": {
            "tags": [],
            "needs_background": "light"
          }
        }
      ]
    },
    {
      "cell_type": "markdown",
      "metadata": {
        "id": "D4gwas_BgWUg",
        "colab_type": "text"
      },
      "source": [
        "실루엣 그래프 - 클러스터 내 데이터들이 얼마나 조밀하게 모여있는지를 측정하는 그래프 도구\n",
        "\n",
        "1) 하나의 임의의 데이터(x(i))와 동일한 클러스터내의 모든 다른 데이터 포인트 사이의 거리를 평균하여 클러스터 응집력(a(i))을 계산합니다.\n",
        "\n",
        "2) 앞서 선정한 데이터와 가장 가까운 클러스터의 모든 샘플간 평균 거리로 최근접 클러스터의 클러스터 분리도C를 계산합니다.\n",
        "\n",
        "3) 클러스터 응집력과 분리도 사이의 차이를 둘 중 큰값으로 나눠 실루엣 계수(s(i))를 계산합니다.\n",
        "\n",
        "응집력과 분리도가 같다면 실루엣 계수는 0\n",
        "응집력 보다 분리도가 크다면 이상적인 실루엣 계수 1에 가깝다\n",
        "\n",
        "분리도(b(i))는 데이터가 다른 클러스터와 얼마나 다른지를 나타내고, 응집도(a(i))는 클러스터 내 다른 샘플과 얼마나 비슷한지를 나타낸다\n",
        "\n",
        "응집력은 작을수록 클러스터 내 다른 데이터들과 비슷하단 뜻\n",
        "두 값이 같다면 클러스터는 중첩되어 있다는 의미\n",
        "\n",
        "군집분석 - 클래스 레이블이 없는 데이터를 특정 군집으로 묶고자 할 때 활용\n",
        "K-MEANS 알고리즘은 학계와 산업현장을 가리지 않고 활약\n",
        "K-MEANS의 무작위 성을 보안하기 위한 기법 K-MEANS++\n",
        "덴드로그램을 그릴수 잇는 계층군집\n",
        "클러스터의 모양이 원형이지 않을 때 사용되는 밀집도 기반 군집\n",
        "\n",
        "1. 다음 중 지도학습이 아닌 것은 무엇인가?\n",
        "1) 선형 회귀\n",
        "2) 군집 분석\n",
        "3) 로지스틱 회귀\n",
        "4) KNN\n",
        "- 2 (비지도 학습)\n",
        "\n",
        "2. 지도학습과 비지도학습의 차이점은 클래스 레이블(정답)이 없다는 것이 차이점이다.\n",
        "- O\n",
        "\n",
        "3. K-means에서 최적인 클러스터 개수 K를 추정하는 방법으로 왜곡값(SSE)이 급하게 변화하는 부분(point)을 찾는 이 방법(Method)의 이름은?\n",
        "- elbow\n",
        "\n",
        "4. 군집분석에 대한 사실로 올바르지 않은 것은?\n",
        "1) 클래스 레이블이 없는 데이터를 특정 군집으로 묶고자 할 때 활용한다.\n",
        "2) K-MEANS 알고리즘은 학계와 산업현장에서 가리지 않고 널리 사용 되고 있다.\n",
        "3) K-MEANS++는 K-MEANS의 무작위 성을 보완하기 위해 나온 기법이다.\n",
        "4) K-MEANS는 하나의 데이터가 여러 클러스터에 중첩 될 수 있다.\n",
        "- 4"
      ]
    },
    {
      "cell_type": "code",
      "metadata": {
        "id": "6T8XqheeiRoo",
        "colab_type": "code",
        "colab": {}
      },
      "source": [
        "from sklearn.metrics import silhouette_samples \n",
        "\n",
        "silhouette_vals = silhouette_samples(X, y_km, metric='euclidean')"
      ],
      "execution_count": 0,
      "outputs": []
    },
    {
      "cell_type": "markdown",
      "metadata": {
        "id": "krRRInIBlORJ",
        "colab_type": "text"
      },
      "source": [
        "3주차 7강 - 군집문제[2]\n",
        "\n",
        "계칭 군집 - 덴드로그램을 그릴 수 있음, \n",
        "장점 \n",
        "의미 있는 분류 체계\n",
        "클러스터 개수를 미리 지정하지 않아도 됨\n",
        "\n",
        "병합 계층군집, 분할 계층 군집\n",
        "\n",
        "분할 계층군집 - 하나의 클러스터에서 시작해, 클러스터 속 데이터가 하나가 남을 때까지 반복적으로 클러스터를 나눔\n",
        "\n",
        "병합계층군집 -  하나의 데이터에서 시작해서 모든 데이터가 하나의 클러스터에 속할 때까지 가장 가까운 클러스터를 병합\n",
        "단일연결, 완전연결, 평균 연결, 와드연결\n",
        "\n",
        "단일연결 - 클러스터 쌍에서 가장 비슷한 즉, 가장 가까운 데이터 간의 거리를 계산\n",
        "거리의 값이 가장 작은 두 클러스터를 하나로 합침\n",
        "\n",
        "완전연결 - 클러스터 쌍에서 가장 비슷한 데이터를 찾는 것이 아닌 가장 비슷하지 않은 데이터 즉, 가장 멀리있는 데이터를 찾아 거리를 구한 후 가장 가까운 두 클러스터를 합침\n",
        "1) 모든 데이터의 거리행렬을 계산합니다.\n",
        "2) 모든 데이터 포인트를 단일 클러스터로 표현합니다.\n",
        "3) 가장 비슷하지 않은 즉, 멀리 떨어진 데이터 간 거리에 기초하여 가장 가까운 두 클러스터를 하나로 합쳐줍니다.\n",
        "4) 유사도 행렬 업데이트\n",
        "5) 하나의 클러스터가 남을 때 까지 2~4단계 반복\n",
        "\n",
        "평균연결 - 두 클러스터에 있는 모든 샘플 사이의 평균 거리가 가장 작은 컬러스터 쌍을 합치는 방식\n",
        "\n",
        "와드 연결 - 제곱 오차합(SSE)가 가장 작게 증가하는 두 클러스터를 합치는 방식\n"
      ]
    },
    {
      "cell_type": "code",
      "metadata": {
        "id": "txWo33sTr8Sb",
        "colab_type": "code",
        "colab": {
          "base_uri": "https://localhost:8080/",
          "height": 204
        },
        "outputId": "fc0684fc-9d3a-4a9c-9387-3212fc6cff9f"
      },
      "source": [
        "import numpy as np\n",
        "np.random.seed(123)\n",
        "X = np.random.random_sample([5,3]) * 10\n",
        "\n",
        "import pandas as pd\n",
        "variables = ['X', 'Y', 'Z']\n",
        "labels = ['ID_0', 'ID_1', 'ID_2','ID_3','ID_4',]\n",
        "df = pd.DataFrame(X, columns=variables, index=labels)\n",
        "df"
      ],
      "execution_count": 11,
      "outputs": [
        {
          "output_type": "execute_result",
          "data": {
            "text/html": [
              "<div>\n",
              "<style scoped>\n",
              "    .dataframe tbody tr th:only-of-type {\n",
              "        vertical-align: middle;\n",
              "    }\n",
              "\n",
              "    .dataframe tbody tr th {\n",
              "        vertical-align: top;\n",
              "    }\n",
              "\n",
              "    .dataframe thead th {\n",
              "        text-align: right;\n",
              "    }\n",
              "</style>\n",
              "<table border=\"1\" class=\"dataframe\">\n",
              "  <thead>\n",
              "    <tr style=\"text-align: right;\">\n",
              "      <th></th>\n",
              "      <th>X</th>\n",
              "      <th>Y</th>\n",
              "      <th>Z</th>\n",
              "    </tr>\n",
              "  </thead>\n",
              "  <tbody>\n",
              "    <tr>\n",
              "      <th>ID_0</th>\n",
              "      <td>6.964692</td>\n",
              "      <td>2.861393</td>\n",
              "      <td>2.268515</td>\n",
              "    </tr>\n",
              "    <tr>\n",
              "      <th>ID_1</th>\n",
              "      <td>5.513148</td>\n",
              "      <td>7.194690</td>\n",
              "      <td>4.231065</td>\n",
              "    </tr>\n",
              "    <tr>\n",
              "      <th>ID_2</th>\n",
              "      <td>9.807642</td>\n",
              "      <td>6.848297</td>\n",
              "      <td>4.809319</td>\n",
              "    </tr>\n",
              "    <tr>\n",
              "      <th>ID_3</th>\n",
              "      <td>3.921175</td>\n",
              "      <td>3.431780</td>\n",
              "      <td>7.290497</td>\n",
              "    </tr>\n",
              "    <tr>\n",
              "      <th>ID_4</th>\n",
              "      <td>4.385722</td>\n",
              "      <td>0.596779</td>\n",
              "      <td>3.980443</td>\n",
              "    </tr>\n",
              "  </tbody>\n",
              "</table>\n",
              "</div>"
            ],
            "text/plain": [
              "             X         Y         Z\n",
              "ID_0  6.964692  2.861393  2.268515\n",
              "ID_1  5.513148  7.194690  4.231065\n",
              "ID_2  9.807642  6.848297  4.809319\n",
              "ID_3  3.921175  3.431780  7.290497\n",
              "ID_4  4.385722  0.596779  3.980443"
            ]
          },
          "metadata": {
            "tags": []
          },
          "execution_count": 11
        }
      ]
    },
    {
      "cell_type": "code",
      "metadata": {
        "id": "swPHNjYosa6R",
        "colab_type": "code",
        "colab": {
          "base_uri": "https://localhost:8080/",
          "height": 1000
        },
        "outputId": "91bb2b82-9713-4547-f118-5d389a42b618"
      },
      "source": [
        "from scipy.spatial.distance import pdist, squareform\n",
        "#pdist() 축약된 거리 행렬\n",
        "Y = pdist(df)#df <- X,Y,Z\n",
        "Y\n",
        "#squareform() 거리행렬 벡터를 행렬형식으로 변환\n",
        "row_dist = pd.DataFrame(squareform(pdist(df, metric='euclidean')),\n",
        "                        columns = labels, index=labels)\n",
        "\n",
        "from scipy.cluster.hierarchy import linkage\n",
        "\n",
        "row_clusters = linkage(row_dist,\n",
        "                       method='complete',\n",
        "                       metric='euclidean')\n",
        "\n",
        "help(linkage)\n",
        "#pdist 함수에서 축약된 거리 행렬을 입력 속성으로 사용\n",
        "#linkage 함수에서 초기 데이터 배열을 전달하고  'euclidean' 지표를 매개변수로 사용\n",
        "\n",
        "row_clusters = linkage(pdist(df, metric='euclidean'),\n",
        "                       method='complete')\n",
        "\n",
        "pd.DataFrame(row_clusters,\n",
        "             columns = ['row label 1', 'row label 2', 'distance', 'no. of items in clust.'],\n",
        "             index =['cluster %d' %(i+1) for i in range(row_clusters.shape[0])])\n",
        "\n"
      ],
      "execution_count": 20,
      "outputs": [
        {
          "output_type": "stream",
          "text": [
            "Help on function linkage in module scipy.cluster.hierarchy:\n",
            "\n",
            "linkage(y, method='single', metric='euclidean', optimal_ordering=False)\n",
            "    Perform hierarchical/agglomerative clustering.\n",
            "    \n",
            "    The input y may be either a 1d condensed distance matrix\n",
            "    or a 2d array of observation vectors.\n",
            "    \n",
            "    If y is a 1d condensed distance matrix,\n",
            "    then y must be a :math:`\\binom{n}{2}` sized\n",
            "    vector where n is the number of original observations paired\n",
            "    in the distance matrix. The behavior of this function is very\n",
            "    similar to the MATLAB linkage function.\n",
            "    \n",
            "    A :math:`(n-1)` by 4 matrix ``Z`` is returned. At the\n",
            "    :math:`i`-th iteration, clusters with indices ``Z[i, 0]`` and\n",
            "    ``Z[i, 1]`` are combined to form cluster :math:`n + i`. A\n",
            "    cluster with an index less than :math:`n` corresponds to one of\n",
            "    the :math:`n` original observations. The distance between\n",
            "    clusters ``Z[i, 0]`` and ``Z[i, 1]`` is given by ``Z[i, 2]``. The\n",
            "    fourth value ``Z[i, 3]`` represents the number of original\n",
            "    observations in the newly formed cluster.\n",
            "    \n",
            "    The following linkage methods are used to compute the distance\n",
            "    :math:`d(s, t)` between two clusters :math:`s` and\n",
            "    :math:`t`. The algorithm begins with a forest of clusters that\n",
            "    have yet to be used in the hierarchy being formed. When two\n",
            "    clusters :math:`s` and :math:`t` from this forest are combined\n",
            "    into a single cluster :math:`u`, :math:`s` and :math:`t` are\n",
            "    removed from the forest, and :math:`u` is added to the\n",
            "    forest. When only one cluster remains in the forest, the algorithm\n",
            "    stops, and this cluster becomes the root.\n",
            "    \n",
            "    A distance matrix is maintained at each iteration. The ``d[i,j]``\n",
            "    entry corresponds to the distance between cluster :math:`i` and\n",
            "    :math:`j` in the original forest.\n",
            "    \n",
            "    At each iteration, the algorithm must update the distance matrix\n",
            "    to reflect the distance of the newly formed cluster u with the\n",
            "    remaining clusters in the forest.\n",
            "    \n",
            "    Suppose there are :math:`|u|` original observations\n",
            "    :math:`u[0], \\ldots, u[|u|-1]` in cluster :math:`u` and\n",
            "    :math:`|v|` original objects :math:`v[0], \\ldots, v[|v|-1]` in\n",
            "    cluster :math:`v`. Recall :math:`s` and :math:`t` are\n",
            "    combined to form cluster :math:`u`. Let :math:`v` be any\n",
            "    remaining cluster in the forest that is not :math:`u`.\n",
            "    \n",
            "    The following are methods for calculating the distance between the\n",
            "    newly formed cluster :math:`u` and each :math:`v`.\n",
            "    \n",
            "      * method='single' assigns\n",
            "    \n",
            "        .. math::\n",
            "           d(u,v) = \\min(dist(u[i],v[j]))\n",
            "    \n",
            "        for all points :math:`i` in cluster :math:`u` and\n",
            "        :math:`j` in cluster :math:`v`. This is also known as the\n",
            "        Nearest Point Algorithm.\n",
            "    \n",
            "      * method='complete' assigns\n",
            "    \n",
            "        .. math::\n",
            "           d(u, v) = \\max(dist(u[i],v[j]))\n",
            "    \n",
            "        for all points :math:`i` in cluster u and :math:`j` in\n",
            "        cluster :math:`v`. This is also known by the Farthest Point\n",
            "        Algorithm or Voor Hees Algorithm.\n",
            "    \n",
            "      * method='average' assigns\n",
            "    \n",
            "        .. math::\n",
            "           d(u,v) = \\sum_{ij} \\frac{d(u[i], v[j])}\n",
            "                                   {(|u|*|v|)}\n",
            "    \n",
            "        for all points :math:`i` and :math:`j` where :math:`|u|`\n",
            "        and :math:`|v|` are the cardinalities of clusters :math:`u`\n",
            "        and :math:`v`, respectively. This is also called the UPGMA\n",
            "        algorithm.\n",
            "    \n",
            "      * method='weighted' assigns\n",
            "    \n",
            "        .. math::\n",
            "           d(u,v) = (dist(s,v) + dist(t,v))/2\n",
            "    \n",
            "        where cluster u was formed with cluster s and t and v\n",
            "        is a remaining cluster in the forest. (also called WPGMA)\n",
            "    \n",
            "      * method='centroid' assigns\n",
            "    \n",
            "        .. math::\n",
            "           dist(s,t) = ||c_s-c_t||_2\n",
            "    \n",
            "        where :math:`c_s` and :math:`c_t` are the centroids of\n",
            "        clusters :math:`s` and :math:`t`, respectively. When two\n",
            "        clusters :math:`s` and :math:`t` are combined into a new\n",
            "        cluster :math:`u`, the new centroid is computed over all the\n",
            "        original objects in clusters :math:`s` and :math:`t`. The\n",
            "        distance then becomes the Euclidean distance between the\n",
            "        centroid of :math:`u` and the centroid of a remaining cluster\n",
            "        :math:`v` in the forest. This is also known as the UPGMC\n",
            "        algorithm.\n",
            "    \n",
            "      * method='median' assigns :math:`d(s,t)` like the ``centroid``\n",
            "        method. When two clusters :math:`s` and :math:`t` are combined\n",
            "        into a new cluster :math:`u`, the average of centroids s and t\n",
            "        give the new centroid :math:`u`. This is also known as the\n",
            "        WPGMC algorithm.\n",
            "    \n",
            "      * method='ward' uses the Ward variance minimization algorithm.\n",
            "        The new entry :math:`d(u,v)` is computed as follows,\n",
            "    \n",
            "        .. math::\n",
            "    \n",
            "           d(u,v) = \\sqrt{\\frac{|v|+|s|}\n",
            "                               {T}d(v,s)^2\n",
            "                        + \\frac{|v|+|t|}\n",
            "                               {T}d(v,t)^2\n",
            "                        - \\frac{|v|}\n",
            "                               {T}d(s,t)^2}\n",
            "    \n",
            "        where :math:`u` is the newly joined cluster consisting of\n",
            "        clusters :math:`s` and :math:`t`, :math:`v` is an unused\n",
            "        cluster in the forest, :math:`T=|v|+|s|+|t|`, and\n",
            "        :math:`|*|` is the cardinality of its argument. This is also\n",
            "        known as the incremental algorithm.\n",
            "    \n",
            "    Warning: When the minimum distance pair in the forest is chosen, there\n",
            "    may be two or more pairs with the same minimum distance. This\n",
            "    implementation may choose a different minimum than the MATLAB\n",
            "    version.\n",
            "    \n",
            "    Parameters\n",
            "    ----------\n",
            "    y : ndarray\n",
            "        A condensed distance matrix. A condensed distance matrix\n",
            "        is a flat array containing the upper triangular of the distance matrix.\n",
            "        This is the form that ``pdist`` returns. Alternatively, a collection of\n",
            "        :math:`m` observation vectors in :math:`n` dimensions may be passed as\n",
            "        an :math:`m` by :math:`n` array. All elements of the condensed distance\n",
            "        matrix must be finite, i.e. no NaNs or infs.\n",
            "    method : str, optional\n",
            "        The linkage algorithm to use. See the ``Linkage Methods`` section below\n",
            "        for full descriptions.\n",
            "    metric : str or function, optional\n",
            "        The distance metric to use in the case that y is a collection of\n",
            "        observation vectors; ignored otherwise. See the ``pdist``\n",
            "        function for a list of valid distance metrics. A custom distance\n",
            "        function can also be used.\n",
            "    optimal_ordering : bool, optional\n",
            "        If True, the linkage matrix will be reordered so that the distance\n",
            "        between successive leaves is minimal. This results in a more intuitive\n",
            "        tree structure when the data are visualized. defaults to False, because\n",
            "        this algorithm can be slow, particularly on large datasets [2]_. See\n",
            "        also the `optimal_leaf_ordering` function.\n",
            "    \n",
            "        .. versionadded:: 1.0.0\n",
            "    \n",
            "    Returns\n",
            "    -------\n",
            "    Z : ndarray\n",
            "        The hierarchical clustering encoded as a linkage matrix.\n",
            "    \n",
            "    Notes\n",
            "    -----\n",
            "    1. For method 'single' an optimized algorithm based on minimum spanning\n",
            "       tree is implemented. It has time complexity :math:`O(n^2)`.\n",
            "       For methods 'complete', 'average', 'weighted' and 'ward' an algorithm\n",
            "       called nearest-neighbors chain is implemented. It also has time\n",
            "       complexity :math:`O(n^2)`.\n",
            "       For other methods a naive algorithm is implemented with :math:`O(n^3)`\n",
            "       time complexity.\n",
            "       All algorithms use :math:`O(n^2)` memory.\n",
            "       Refer to [1]_ for details about the algorithms.\n",
            "    2. Methods 'centroid', 'median' and 'ward' are correctly defined only if\n",
            "       Euclidean pairwise metric is used. If `y` is passed as precomputed\n",
            "       pairwise distances, then it is a user responsibility to assure that\n",
            "       these distances are in fact Euclidean, otherwise the produced result\n",
            "       will be incorrect.\n",
            "    \n",
            "    See Also\n",
            "    --------\n",
            "    scipy.spatial.distance.pdist : pairwise distance metrics\n",
            "    \n",
            "    References\n",
            "    ----------\n",
            "    .. [1] Daniel Mullner, \"Modern hierarchical, agglomerative clustering\n",
            "           algorithms\", :arXiv:`1109.2378v1`.\n",
            "    .. [2] Ziv Bar-Joseph, David K. Gifford, Tommi S. Jaakkola, \"Fast optimal\n",
            "           leaf ordering for hierarchical clustering\", 2001. Bioinformatics\n",
            "           :doi:`10.1093/bioinformatics/17.suppl_1.S22`\n",
            "    \n",
            "    Examples\n",
            "    --------\n",
            "    >>> from scipy.cluster.hierarchy import dendrogram, linkage\n",
            "    >>> from matplotlib import pyplot as plt\n",
            "    >>> X = [[i] for i in [2, 8, 0, 4, 1, 9, 9, 0]]\n",
            "    \n",
            "    >>> Z = linkage(X, 'ward')\n",
            "    >>> fig = plt.figure(figsize=(25, 10))\n",
            "    >>> dn = dendrogram(Z)\n",
            "    \n",
            "    >>> Z = linkage(X, 'single')\n",
            "    >>> fig = plt.figure(figsize=(25, 10))\n",
            "    >>> dn = dendrogram(Z)\n",
            "    >>> plt.show()\n",
            "\n"
          ],
          "name": "stdout"
        },
        {
          "output_type": "stream",
          "text": [
            "/usr/local/lib/python3.6/dist-packages/ipykernel_launcher.py:13: ClusterWarning: scipy.cluster: The symmetric non-negative hollow observation matrix looks suspiciously like an uncondensed distance matrix\n",
            "  del sys.path[0]\n"
          ],
          "name": "stderr"
        },
        {
          "output_type": "execute_result",
          "data": {
            "text/html": [
              "<div>\n",
              "<style scoped>\n",
              "    .dataframe tbody tr th:only-of-type {\n",
              "        vertical-align: middle;\n",
              "    }\n",
              "\n",
              "    .dataframe tbody tr th {\n",
              "        vertical-align: top;\n",
              "    }\n",
              "\n",
              "    .dataframe thead th {\n",
              "        text-align: right;\n",
              "    }\n",
              "</style>\n",
              "<table border=\"1\" class=\"dataframe\">\n",
              "  <thead>\n",
              "    <tr style=\"text-align: right;\">\n",
              "      <th></th>\n",
              "      <th>row label 1</th>\n",
              "      <th>row label 2</th>\n",
              "      <th>distance</th>\n",
              "      <th>no. of items in clust.</th>\n",
              "    </tr>\n",
              "  </thead>\n",
              "  <tbody>\n",
              "    <tr>\n",
              "      <th>cluster 1</th>\n",
              "      <td>0.0</td>\n",
              "      <td>4.0</td>\n",
              "      <td>3.835396</td>\n",
              "      <td>2.0</td>\n",
              "    </tr>\n",
              "    <tr>\n",
              "      <th>cluster 2</th>\n",
              "      <td>1.0</td>\n",
              "      <td>2.0</td>\n",
              "      <td>4.347073</td>\n",
              "      <td>2.0</td>\n",
              "    </tr>\n",
              "    <tr>\n",
              "      <th>cluster 3</th>\n",
              "      <td>3.0</td>\n",
              "      <td>5.0</td>\n",
              "      <td>5.899885</td>\n",
              "      <td>3.0</td>\n",
              "    </tr>\n",
              "    <tr>\n",
              "      <th>cluster 4</th>\n",
              "      <td>6.0</td>\n",
              "      <td>7.0</td>\n",
              "      <td>8.316594</td>\n",
              "      <td>5.0</td>\n",
              "    </tr>\n",
              "  </tbody>\n",
              "</table>\n",
              "</div>"
            ],
            "text/plain": [
              "           row label 1  row label 2  distance  no. of items in clust.\n",
              "cluster 1          0.0          4.0  3.835396                     2.0\n",
              "cluster 2          1.0          2.0  4.347073                     2.0\n",
              "cluster 3          3.0          5.0  5.899885                     3.0\n",
              "cluster 4          6.0          7.0  8.316594                     5.0"
            ]
          },
          "metadata": {
            "tags": []
          },
          "execution_count": 20
        }
      ]
    },
    {
      "cell_type": "code",
      "metadata": {
        "id": "R9qUFdoZutRS",
        "colab_type": "code",
        "colab": {
          "base_uri": "https://localhost:8080/",
          "height": 297
        },
        "outputId": "c9c88883-3df4-4f3d-e8e1-39e0f5ac493d"
      },
      "source": [
        "import matplotlib.pyplot as plt\n",
        "from scipy.cluster.hierarchy import dendrogram, ward\n",
        "\n",
        "row_dendr = dendrogram(row_clusters, \n",
        "                       labels = labels)\n",
        "\n",
        "plt.tight_layout()\n",
        "plt.ylabel('Euclidean distance')\n",
        "plt.show()"
      ],
      "execution_count": 21,
      "outputs": [
        {
          "output_type": "display_data",
          "data": {
            "image/png": "[encoded data removed]",
            "text/plain": [
              "<Figure size 432x288 with 1 Axes>"
            ]
          },
          "metadata": {
            "tags": [],
            "needs_background": "light"
          }
        }
      ]
    },
    {
      "cell_type": "markdown",
      "metadata": {
        "id": "dEAIQF4h0npL",
        "colab_type": "text"
      },
      "source": [
        "계층군집 덴드로그램은 히트맵과 함께 자주 사용\n",
        "\n",
        "밀집도 기반 군집(DBSCAN) - 원형 클러스터를 가정하지 않는다.\n",
        "\n",
        "밀집도 : 특정 반경(엡실론) 안에있는 샘플의 개수(MinPts)로 정의\n",
        "\n",
        "어떠한 데이터의 특정 반경 안에 있는 이웃점이 우리가 임의로 지정한 개수 이상이면 이 데이터는 중심점이 된다.\n",
        "두번째, 다음으로 가장 가까운 점 기준, 특정 반경 이내에 지정된 개수보다 이웃은 적지만 다른 중심점의 반경 안에 있으면, 이는 경계점이 됨\n",
        "세번째, 이러한 방식으로 점들을 할당하고 나서 그 어떠한 점에도 속하지 않는 모든 점들은 이상치가 됨\n",
        "중심점(core point), 경계점(border point), 이상치(noise point)\n",
        "\n",
        "임의의 점을 중심으로 엡실론 반경 내의 최소 이웃수 이상의 점이 있다면 그 점을 중심으로 군집이 되고, 그 점을 core point라고 한다\n",
        "\n",
        "core point가 서로 다른 core point의 군집의 일부가 되면 그 군집은 서로 연결되어 있다고 하고 하나의 군집으로 연결\n",
        "\n",
        "군집에는 속하지만 스스로 core point가 되지 못하는 점을 border point라고 하며, 주로 클러스터의 외각을 이루는 점\n",
        "그 어떠한 클러스터에도 속하지 못하는 점을 noise point라고 함\n",
        "\n",
        "이 알고리즘의 장점 중 하나는 클러스터의 모양을 원형으로 가정하지 않음, 모든 데이터들을 꼭 클러스터에 할당하지 않아도 되서 자연스럽게 이상치 데이터를 구분\n",
        "\n"
      ]
    },
    {
      "cell_type": "code",
      "metadata": {
        "id": "vY825Ubc3Kgt",
        "colab_type": "code",
        "colab": {
          "base_uri": "https://localhost:8080/",
          "height": 297
        },
        "outputId": "14db2291-8edf-4df0-b897-61f427dec4e3"
      },
      "source": [
        "from sklearn.datasets import make_moons\n",
        "\n",
        "X,y = make_moons(n_samples=200,\n",
        "                 noise = 0.05, \n",
        "                 random_state = 0)\n",
        "\n",
        "plt.scatter(X[:,0], X[:,1])\n",
        "plt.tight_layout()\n",
        "plt.show()"
      ],
      "execution_count": 23,
      "outputs": [
        {
          "output_type": "display_data",
          "data": {
            "image/png": "[encoded data removed]",
            "text/plain": [
              "<Figure size 432x288 with 1 Axes>"
            ]
          },
          "metadata": {
            "tags": [],
            "needs_background": "light"
          }
        }
      ]
    },
    {
      "cell_type": "code",
      "metadata": {
        "id": "0LDVY9Ay3oe8",
        "colab_type": "code",
        "colab": {
          "base_uri": "https://localhost:8080/",
          "height": 646
        },
        "outputId": "fbb18390-34d3-497a-9062-6e733d71054f"
      },
      "source": [
        "f, (ax1, ax2) = plt.subplots(1,2, figsize=(8,3))\n",
        "\n",
        "km = KMeans(n_clusters=2, random_state=0)\n",
        "y_km = km.fit_predict(X)\n",
        "ax1.scatter(X[y_km == 0, 0], X[y_km == 0, 1],\n",
        "            edgecolor='black',\n",
        "            c='lightblue', marker='0', s=40, label='cluster 1')\n",
        "ax1.scatter(X[y_km == 1, 0], X[y_km == 1, 1],\n",
        "            edgecolor='black',\n",
        "            c='red', marker='0', s=40, label='cluster 2')\n",
        "ax1.set_title('K-means clustering')\n",
        "\n",
        "ac = AgglomerativeClustering(n_clusters=2,\n",
        "                             affinity='euclidean',\n",
        "                             linkage='complete')\n",
        "y_ac = ac.fit_predict(X)\n",
        "ax2.scatter(X[y_km == 0, 0], X[y_km == 0, 1],\n",
        "            edgecolor='black',\n",
        "            c='lightblue', marker='0', s=40, label='cluster 1')\n",
        "ax2.scatter(X[y_km == 1, 0], X[y_km == 1, 1],\n",
        "            edgecolor='black',\n",
        "            c='red', marker='0', s=40, label='cluster 2')\n",
        "ax2.set_title('Agglomerative clustering')\n",
        "\n",
        "plt.legend()\n",
        "plt.tight_layout()\n",
        "plt.show()"
      ],
      "execution_count": 24,
      "outputs": [
        {
          "output_type": "error",
          "ename": "ValueError",
          "evalue": "ignored",
          "traceback": [
            "\u001b[0;31m---------------------------------------------------------------------------\u001b[0m",
            "\u001b[0;31mValueError\u001b[0m                                Traceback (most recent call last)",
            "\u001b[0;32m/usr/local/lib/python3.6/dist-packages/matplotlib/markers.py\u001b[0m in \u001b[0;36mset_marker\u001b[0;34m(self, marker)\u001b[0m\n\u001b[1;32m    288\u001b[0m             \u001b[0;32mtry\u001b[0m\u001b[0;34m:\u001b[0m\u001b[0;34m\u001b[0m\u001b[0;34m\u001b[0m\u001b[0m\n\u001b[0;32m--> 289\u001b[0;31m                 \u001b[0mPath\u001b[0m\u001b[0;34m(\u001b[0m\u001b[0mmarker\u001b[0m\u001b[0;34m)\u001b[0m\u001b[0;34m\u001b[0m\u001b[0;34m\u001b[0m\u001b[0m\n\u001b[0m\u001b[1;32m    290\u001b[0m                 \u001b[0mself\u001b[0m\u001b[0;34m.\u001b[0m\u001b[0m_marker_function\u001b[0m \u001b[0;34m=\u001b[0m \u001b[0mself\u001b[0m\u001b[0;34m.\u001b[0m\u001b[0m_set_vertices\u001b[0m\u001b[0;34m\u001b[0m\u001b[0;34m\u001b[0m\u001b[0m\n",
            "\u001b[0;32m/usr/local/lib/python3.6/dist-packages/matplotlib/path.py\u001b[0m in \u001b[0;36m__init__\u001b[0;34m(self, vertices, codes, _interpolation_steps, closed, readonly)\u001b[0m\n\u001b[1;32m    129\u001b[0m             raise ValueError(\n\u001b[0;32m--> 130\u001b[0;31m                 \"'vertices' must be a 2D list or array with shape Nx2\")\n\u001b[0m\u001b[1;32m    131\u001b[0m \u001b[0;34m\u001b[0m\u001b[0m\n",
            "\u001b[0;31mValueError\u001b[0m: 'vertices' must be a 2D list or array with shape Nx2",
            "\nDuring handling of the above exception, another exception occurred:\n",
            "\u001b[0;31mValueError\u001b[0m                                Traceback (most recent call last)",
            "\u001b[0;32m<ipython-input-24-d6fcb11e9775>\u001b[0m in \u001b[0;36m<module>\u001b[0;34m()\u001b[0m\n\u001b[1;32m      5\u001b[0m ax1.scatter(X[y_km == 0, 0], X[y_km == 0, 1],\n\u001b[1;32m      6\u001b[0m             \u001b[0medgecolor\u001b[0m\u001b[0;34m=\u001b[0m\u001b[0;34m'black'\u001b[0m\u001b[0;34m,\u001b[0m\u001b[0;34m\u001b[0m\u001b[0;34m\u001b[0m\u001b[0m\n\u001b[0;32m----> 7\u001b[0;31m             c='lightblue', marker='0', s=40, label='cluster 1')\n\u001b[0m\u001b[1;32m      8\u001b[0m ax1.scatter(X[y_km == 1, 0], X[y_km == 1, 1],\n\u001b[1;32m      9\u001b[0m             \u001b[0medgecolor\u001b[0m\u001b[0;34m=\u001b[0m\u001b[0;34m'black'\u001b[0m\u001b[0;34m,\u001b[0m\u001b[0;34m\u001b[0m\u001b[0;34m\u001b[0m\u001b[0m\n",
            "\u001b[0;32m/usr/local/lib/python3.6/dist-packages/matplotlib/__init__.py\u001b[0m in \u001b[0;36minner\u001b[0;34m(ax, data, *args, **kwargs)\u001b[0m\n\u001b[1;32m   1563\u001b[0m     \u001b[0;32mdef\u001b[0m \u001b[0minner\u001b[0m\u001b[0;34m(\u001b[0m\u001b[0max\u001b[0m\u001b[0;34m,\u001b[0m \u001b[0;34m*\u001b[0m\u001b[0margs\u001b[0m\u001b[0;34m,\u001b[0m \u001b[0mdata\u001b[0m\u001b[0;34m=\u001b[0m\u001b[0;32mNone\u001b[0m\u001b[0;34m,\u001b[0m \u001b[0;34m**\u001b[0m\u001b[0mkwargs\u001b[0m\u001b[0;34m)\u001b[0m\u001b[0;34m:\u001b[0m\u001b[0;34m\u001b[0m\u001b[0;34m\u001b[0m\u001b[0m\n\u001b[1;32m   1564\u001b[0m         \u001b[0;32mif\u001b[0m \u001b[0mdata\u001b[0m \u001b[0;32mis\u001b[0m \u001b[0;32mNone\u001b[0m\u001b[0;34m:\u001b[0m\u001b[0;34m\u001b[0m\u001b[0;34m\u001b[0m\u001b[0m\n\u001b[0;32m-> 1565\u001b[0;31m             \u001b[0;32mreturn\u001b[0m \u001b[0mfunc\u001b[0m\u001b[0;34m(\u001b[0m\u001b[0max\u001b[0m\u001b[0;34m,\u001b[0m \u001b[0;34m*\u001b[0m\u001b[0mmap\u001b[0m\u001b[0;34m(\u001b[0m\u001b[0msanitize_sequence\u001b[0m\u001b[0;34m,\u001b[0m \u001b[0margs\u001b[0m\u001b[0;34m)\u001b[0m\u001b[0;34m,\u001b[0m \u001b[0;34m**\u001b[0m\u001b[0mkwargs\u001b[0m\u001b[0;34m)\u001b[0m\u001b[0;34m\u001b[0m\u001b[0;34m\u001b[0m\u001b[0m\n\u001b[0m\u001b[1;32m   1566\u001b[0m \u001b[0;34m\u001b[0m\u001b[0m\n\u001b[1;32m   1567\u001b[0m         \u001b[0mbound\u001b[0m \u001b[0;34m=\u001b[0m \u001b[0mnew_sig\u001b[0m\u001b[0;34m.\u001b[0m\u001b[0mbind\u001b[0m\u001b[0;34m(\u001b[0m\u001b[0max\u001b[0m\u001b[0;34m,\u001b[0m \u001b[0;34m*\u001b[0m\u001b[0margs\u001b[0m\u001b[0;34m,\u001b[0m \u001b[0;34m**\u001b[0m\u001b[0mkwargs\u001b[0m\u001b[0;34m)\u001b[0m\u001b[0;34m\u001b[0m\u001b[0;34m\u001b[0m\u001b[0m\n",
            "\u001b[0;32m/usr/local/lib/python3.6/dist-packages/matplotlib/cbook/deprecation.py\u001b[0m in \u001b[0;36mwrapper\u001b[0;34m(*args, **kwargs)\u001b[0m\n\u001b[1;32m    356\u001b[0m                 \u001b[0;34mf\"%(removal)s.  If any parameter follows {name!r}, they \"\u001b[0m\u001b[0;34m\u001b[0m\u001b[0;34m\u001b[0m\u001b[0m\n\u001b[1;32m    357\u001b[0m                 f\"should be pass as keyword, not positionally.\")\n\u001b[0;32m--> 358\u001b[0;31m         \u001b[0;32mreturn\u001b[0m \u001b[0mfunc\u001b[0m\u001b[0;34m(\u001b[0m\u001b[0;34m*\u001b[0m\u001b[0margs\u001b[0m\u001b[0;34m,\u001b[0m \u001b[0;34m**\u001b[0m\u001b[0mkwargs\u001b[0m\u001b[0;34m)\u001b[0m\u001b[0;34m\u001b[0m\u001b[0;34m\u001b[0m\u001b[0m\n\u001b[0m\u001b[1;32m    359\u001b[0m \u001b[0;34m\u001b[0m\u001b[0m\n\u001b[1;32m    360\u001b[0m     \u001b[0;32mreturn\u001b[0m \u001b[0mwrapper\u001b[0m\u001b[0;34m\u001b[0m\u001b[0;34m\u001b[0m\u001b[0m\n",
            "\u001b[0;32m/usr/local/lib/python3.6/dist-packages/matplotlib/axes/_axes.py\u001b[0m in \u001b[0;36mscatter\u001b[0;34m(self, x, y, s, c, marker, cmap, norm, vmin, vmax, alpha, linewidths, verts, edgecolors, plotnonfinite, **kwargs)\u001b[0m\n\u001b[1;32m   4410\u001b[0m             \u001b[0mmarker_obj\u001b[0m \u001b[0;34m=\u001b[0m \u001b[0mmarker\u001b[0m\u001b[0;34m\u001b[0m\u001b[0;34m\u001b[0m\u001b[0m\n\u001b[1;32m   4411\u001b[0m         \u001b[0;32melse\u001b[0m\u001b[0;34m:\u001b[0m\u001b[0;34m\u001b[0m\u001b[0;34m\u001b[0m\u001b[0m\n\u001b[0;32m-> 4412\u001b[0;31m             \u001b[0mmarker_obj\u001b[0m \u001b[0;34m=\u001b[0m \u001b[0mmmarkers\u001b[0m\u001b[0;34m.\u001b[0m\u001b[0mMarkerStyle\u001b[0m\u001b[0;34m(\u001b[0m\u001b[0mmarker\u001b[0m\u001b[0;34m)\u001b[0m\u001b[0;34m\u001b[0m\u001b[0;34m\u001b[0m\u001b[0m\n\u001b[0m\u001b[1;32m   4413\u001b[0m \u001b[0;34m\u001b[0m\u001b[0m\n\u001b[1;32m   4414\u001b[0m         path = marker_obj.get_path().transformed(\n",
            "\u001b[0;32m/usr/local/lib/python3.6/dist-packages/matplotlib/markers.py\u001b[0m in \u001b[0;36m__init__\u001b[0;34m(self, marker, fillstyle)\u001b[0m\n\u001b[1;32m    223\u001b[0m         \u001b[0mself\u001b[0m\u001b[0;34m.\u001b[0m\u001b[0m_marker_function\u001b[0m \u001b[0;34m=\u001b[0m \u001b[0;32mNone\u001b[0m\u001b[0;34m\u001b[0m\u001b[0;34m\u001b[0m\u001b[0m\n\u001b[1;32m    224\u001b[0m         \u001b[0mself\u001b[0m\u001b[0;34m.\u001b[0m\u001b[0mset_fillstyle\u001b[0m\u001b[0;34m(\u001b[0m\u001b[0mfillstyle\u001b[0m\u001b[0;34m)\u001b[0m\u001b[0;34m\u001b[0m\u001b[0;34m\u001b[0m\u001b[0m\n\u001b[0;32m--> 225\u001b[0;31m         \u001b[0mself\u001b[0m\u001b[0;34m.\u001b[0m\u001b[0mset_marker\u001b[0m\u001b[0;34m(\u001b[0m\u001b[0mmarker\u001b[0m\u001b[0;34m)\u001b[0m\u001b[0;34m\u001b[0m\u001b[0;34m\u001b[0m\u001b[0m\n\u001b[0m\u001b[1;32m    226\u001b[0m \u001b[0;34m\u001b[0m\u001b[0m\n\u001b[1;32m    227\u001b[0m     \u001b[0;32mdef\u001b[0m \u001b[0m_recache\u001b[0m\u001b[0;34m(\u001b[0m\u001b[0mself\u001b[0m\u001b[0;34m)\u001b[0m\u001b[0;34m:\u001b[0m\u001b[0;34m\u001b[0m\u001b[0;34m\u001b[0m\u001b[0m\n",
            "\u001b[0;32m/usr/local/lib/python3.6/dist-packages/matplotlib/markers.py\u001b[0m in \u001b[0;36mset_marker\u001b[0;34m(self, marker)\u001b[0m\n\u001b[1;32m    291\u001b[0m             \u001b[0;32mexcept\u001b[0m \u001b[0mValueError\u001b[0m\u001b[0;34m:\u001b[0m\u001b[0;34m\u001b[0m\u001b[0;34m\u001b[0m\u001b[0m\n\u001b[1;32m    292\u001b[0m                 raise ValueError('Unrecognized marker style {!r}'\n\u001b[0;32m--> 293\u001b[0;31m                                  .format(marker))\n\u001b[0m\u001b[1;32m    294\u001b[0m \u001b[0;34m\u001b[0m\u001b[0m\n\u001b[1;32m    295\u001b[0m         \u001b[0mself\u001b[0m\u001b[0;34m.\u001b[0m\u001b[0m_marker\u001b[0m \u001b[0;34m=\u001b[0m \u001b[0mmarker\u001b[0m\u001b[0;34m\u001b[0m\u001b[0;34m\u001b[0m\u001b[0m\n",
            "\u001b[0;31mValueError\u001b[0m: Unrecognized marker style '0'"
          ]
        },
        {
          "output_type": "display_data",
          "data": {
            "image/png": "[encoded data removed]",
            "text/plain": [
              "<Figure size 576x216 with 2 Axes>"
            ]
          },
          "metadata": {
            "tags": [],
            "needs_background": "light"
          }
        }
      ]
    },
    {
      "cell_type": "code",
      "metadata": {
        "id": "daowsgxF4zpe",
        "colab_type": "code",
        "colab": {
          "base_uri": "https://localhost:8080/",
          "height": 700
        },
        "outputId": "74ba608c-415a-48ee-f384-a9d31385d116"
      },
      "source": [
        "from sklearn.cluster import DBSCAN\n",
        "\n",
        "db = DBSCAN(eps=0.2, min_samples=5, metric='euclidean')\n",
        "\n",
        "y_db = db.fit_predict(X)\n",
        "\n",
        "plt.scatter(X[y_db == 0, 0], X[y_db == 0, 1],\n",
        "            edgecolor='black',\n",
        "            c='lightblue', marker='0', s=40, label='cluster 1')\n",
        "plt.scatter(X[y_db == 1, 0], X[y_db == 1, 1],\n",
        "            edgecolor='black',\n",
        "            c='red', marker='0', s=40, label='cluster 2')\n",
        "\n",
        "plt.legend()\n",
        "plt.tight_layout()\n",
        "plt.show()"
      ],
      "execution_count": 26,
      "outputs": [
        {
          "output_type": "error",
          "ename": "ValueError",
          "evalue": "ignored",
          "traceback": [
            "\u001b[0;31m---------------------------------------------------------------------------\u001b[0m",
            "\u001b[0;31mValueError\u001b[0m                                Traceback (most recent call last)",
            "\u001b[0;32m/usr/local/lib/python3.6/dist-packages/matplotlib/markers.py\u001b[0m in \u001b[0;36mset_marker\u001b[0;34m(self, marker)\u001b[0m\n\u001b[1;32m    288\u001b[0m             \u001b[0;32mtry\u001b[0m\u001b[0;34m:\u001b[0m\u001b[0;34m\u001b[0m\u001b[0;34m\u001b[0m\u001b[0m\n\u001b[0;32m--> 289\u001b[0;31m                 \u001b[0mPath\u001b[0m\u001b[0;34m(\u001b[0m\u001b[0mmarker\u001b[0m\u001b[0;34m)\u001b[0m\u001b[0;34m\u001b[0m\u001b[0;34m\u001b[0m\u001b[0m\n\u001b[0m\u001b[1;32m    290\u001b[0m                 \u001b[0mself\u001b[0m\u001b[0;34m.\u001b[0m\u001b[0m_marker_function\u001b[0m \u001b[0;34m=\u001b[0m \u001b[0mself\u001b[0m\u001b[0;34m.\u001b[0m\u001b[0m_set_vertices\u001b[0m\u001b[0;34m\u001b[0m\u001b[0;34m\u001b[0m\u001b[0m\n",
            "\u001b[0;32m/usr/local/lib/python3.6/dist-packages/matplotlib/path.py\u001b[0m in \u001b[0;36m__init__\u001b[0;34m(self, vertices, codes, _interpolation_steps, closed, readonly)\u001b[0m\n\u001b[1;32m    129\u001b[0m             raise ValueError(\n\u001b[0;32m--> 130\u001b[0;31m                 \"'vertices' must be a 2D list or array with shape Nx2\")\n\u001b[0m\u001b[1;32m    131\u001b[0m \u001b[0;34m\u001b[0m\u001b[0m\n",
            "\u001b[0;31mValueError\u001b[0m: 'vertices' must be a 2D list or array with shape Nx2",
            "\nDuring handling of the above exception, another exception occurred:\n",
            "\u001b[0;31mValueError\u001b[0m                                Traceback (most recent call last)",
            "\u001b[0;32m<ipython-input-26-809aa3acebbf>\u001b[0m in \u001b[0;36m<module>\u001b[0;34m()\u001b[0m\n\u001b[1;32m      7\u001b[0m plt.scatter(X[y_db == 0, 0], X[y_db == 0, 1],\n\u001b[1;32m      8\u001b[0m             \u001b[0medgecolor\u001b[0m\u001b[0;34m=\u001b[0m\u001b[0;34m'black'\u001b[0m\u001b[0;34m,\u001b[0m\u001b[0;34m\u001b[0m\u001b[0;34m\u001b[0m\u001b[0m\n\u001b[0;32m----> 9\u001b[0;31m             c='lightblue', marker='0', s=40, label='cluster 1')\n\u001b[0m\u001b[1;32m     10\u001b[0m plt.scatter(X[y_db == 1, 0], X[y_db == 1, 1],\n\u001b[1;32m     11\u001b[0m             \u001b[0medgecolor\u001b[0m\u001b[0;34m=\u001b[0m\u001b[0;34m'black'\u001b[0m\u001b[0;34m,\u001b[0m\u001b[0;34m\u001b[0m\u001b[0;34m\u001b[0m\u001b[0m\n",
            "\u001b[0;32m/usr/local/lib/python3.6/dist-packages/matplotlib/pyplot.py\u001b[0m in \u001b[0;36mscatter\u001b[0;34m(x, y, s, c, marker, cmap, norm, vmin, vmax, alpha, linewidths, verts, edgecolors, plotnonfinite, data, **kwargs)\u001b[0m\n\u001b[1;32m   2814\u001b[0m         \u001b[0mverts\u001b[0m\u001b[0;34m=\u001b[0m\u001b[0mverts\u001b[0m\u001b[0;34m,\u001b[0m \u001b[0medgecolors\u001b[0m\u001b[0;34m=\u001b[0m\u001b[0medgecolors\u001b[0m\u001b[0;34m,\u001b[0m\u001b[0;34m\u001b[0m\u001b[0;34m\u001b[0m\u001b[0m\n\u001b[1;32m   2815\u001b[0m         plotnonfinite=plotnonfinite, **({\"data\": data} if data is not\n\u001b[0;32m-> 2816\u001b[0;31m         None else {}), **kwargs)\n\u001b[0m\u001b[1;32m   2817\u001b[0m     \u001b[0msci\u001b[0m\u001b[0;34m(\u001b[0m\u001b[0m__ret\u001b[0m\u001b[0;34m)\u001b[0m\u001b[0;34m\u001b[0m\u001b[0;34m\u001b[0m\u001b[0m\n\u001b[1;32m   2818\u001b[0m     \u001b[0;32mreturn\u001b[0m \u001b[0m__ret\u001b[0m\u001b[0;34m\u001b[0m\u001b[0;34m\u001b[0m\u001b[0m\n",
            "\u001b[0;32m/usr/local/lib/python3.6/dist-packages/matplotlib/__init__.py\u001b[0m in \u001b[0;36minner\u001b[0;34m(ax, data, *args, **kwargs)\u001b[0m\n\u001b[1;32m   1563\u001b[0m     \u001b[0;32mdef\u001b[0m \u001b[0minner\u001b[0m\u001b[0;34m(\u001b[0m\u001b[0max\u001b[0m\u001b[0;34m,\u001b[0m \u001b[0;34m*\u001b[0m\u001b[0margs\u001b[0m\u001b[0;34m,\u001b[0m \u001b[0mdata\u001b[0m\u001b[0;34m=\u001b[0m\u001b[0;32mNone\u001b[0m\u001b[0;34m,\u001b[0m \u001b[0;34m**\u001b[0m\u001b[0mkwargs\u001b[0m\u001b[0;34m)\u001b[0m\u001b[0;34m:\u001b[0m\u001b[0;34m\u001b[0m\u001b[0;34m\u001b[0m\u001b[0m\n\u001b[1;32m   1564\u001b[0m         \u001b[0;32mif\u001b[0m \u001b[0mdata\u001b[0m \u001b[0;32mis\u001b[0m \u001b[0;32mNone\u001b[0m\u001b[0;34m:\u001b[0m\u001b[0;34m\u001b[0m\u001b[0;34m\u001b[0m\u001b[0m\n\u001b[0;32m-> 1565\u001b[0;31m             \u001b[0;32mreturn\u001b[0m \u001b[0mfunc\u001b[0m\u001b[0;34m(\u001b[0m\u001b[0max\u001b[0m\u001b[0;34m,\u001b[0m \u001b[0;34m*\u001b[0m\u001b[0mmap\u001b[0m\u001b[0;34m(\u001b[0m\u001b[0msanitize_sequence\u001b[0m\u001b[0;34m,\u001b[0m \u001b[0margs\u001b[0m\u001b[0;34m)\u001b[0m\u001b[0;34m,\u001b[0m \u001b[0;34m**\u001b[0m\u001b[0mkwargs\u001b[0m\u001b[0;34m)\u001b[0m\u001b[0;34m\u001b[0m\u001b[0;34m\u001b[0m\u001b[0m\n\u001b[0m\u001b[1;32m   1566\u001b[0m \u001b[0;34m\u001b[0m\u001b[0m\n\u001b[1;32m   1567\u001b[0m         \u001b[0mbound\u001b[0m \u001b[0;34m=\u001b[0m \u001b[0mnew_sig\u001b[0m\u001b[0;34m.\u001b[0m\u001b[0mbind\u001b[0m\u001b[0;34m(\u001b[0m\u001b[0max\u001b[0m\u001b[0;34m,\u001b[0m \u001b[0;34m*\u001b[0m\u001b[0margs\u001b[0m\u001b[0;34m,\u001b[0m \u001b[0;34m**\u001b[0m\u001b[0mkwargs\u001b[0m\u001b[0;34m)\u001b[0m\u001b[0;34m\u001b[0m\u001b[0;34m\u001b[0m\u001b[0m\n",
            "\u001b[0;32m/usr/local/lib/python3.6/dist-packages/matplotlib/cbook/deprecation.py\u001b[0m in \u001b[0;36mwrapper\u001b[0;34m(*args, **kwargs)\u001b[0m\n\u001b[1;32m    356\u001b[0m                 \u001b[0;34mf\"%(removal)s.  If any parameter follows {name!r}, they \"\u001b[0m\u001b[0;34m\u001b[0m\u001b[0;34m\u001b[0m\u001b[0m\n\u001b[1;32m    357\u001b[0m                 f\"should be pass as keyword, not positionally.\")\n\u001b[0;32m--> 358\u001b[0;31m         \u001b[0;32mreturn\u001b[0m \u001b[0mfunc\u001b[0m\u001b[0;34m(\u001b[0m\u001b[0;34m*\u001b[0m\u001b[0margs\u001b[0m\u001b[0;34m,\u001b[0m \u001b[0;34m**\u001b[0m\u001b[0mkwargs\u001b[0m\u001b[0;34m)\u001b[0m\u001b[0;34m\u001b[0m\u001b[0;34m\u001b[0m\u001b[0m\n\u001b[0m\u001b[1;32m    359\u001b[0m \u001b[0;34m\u001b[0m\u001b[0m\n\u001b[1;32m    360\u001b[0m     \u001b[0;32mreturn\u001b[0m \u001b[0mwrapper\u001b[0m\u001b[0;34m\u001b[0m\u001b[0;34m\u001b[0m\u001b[0m\n",
            "\u001b[0;32m/usr/local/lib/python3.6/dist-packages/matplotlib/axes/_axes.py\u001b[0m in \u001b[0;36mscatter\u001b[0;34m(self, x, y, s, c, marker, cmap, norm, vmin, vmax, alpha, linewidths, verts, edgecolors, plotnonfinite, **kwargs)\u001b[0m\n\u001b[1;32m   4410\u001b[0m             \u001b[0mmarker_obj\u001b[0m \u001b[0;34m=\u001b[0m \u001b[0mmarker\u001b[0m\u001b[0;34m\u001b[0m\u001b[0;34m\u001b[0m\u001b[0m\n\u001b[1;32m   4411\u001b[0m         \u001b[0;32melse\u001b[0m\u001b[0;34m:\u001b[0m\u001b[0;34m\u001b[0m\u001b[0;34m\u001b[0m\u001b[0m\n\u001b[0;32m-> 4412\u001b[0;31m             \u001b[0mmarker_obj\u001b[0m \u001b[0;34m=\u001b[0m \u001b[0mmmarkers\u001b[0m\u001b[0;34m.\u001b[0m\u001b[0mMarkerStyle\u001b[0m\u001b[0;34m(\u001b[0m\u001b[0mmarker\u001b[0m\u001b[0;34m)\u001b[0m\u001b[0;34m\u001b[0m\u001b[0;34m\u001b[0m\u001b[0m\n\u001b[0m\u001b[1;32m   4413\u001b[0m \u001b[0;34m\u001b[0m\u001b[0m\n\u001b[1;32m   4414\u001b[0m         path = marker_obj.get_path().transformed(\n",
            "\u001b[0;32m/usr/local/lib/python3.6/dist-packages/matplotlib/markers.py\u001b[0m in \u001b[0;36m__init__\u001b[0;34m(self, marker, fillstyle)\u001b[0m\n\u001b[1;32m    223\u001b[0m         \u001b[0mself\u001b[0m\u001b[0;34m.\u001b[0m\u001b[0m_marker_function\u001b[0m \u001b[0;34m=\u001b[0m \u001b[0;32mNone\u001b[0m\u001b[0;34m\u001b[0m\u001b[0;34m\u001b[0m\u001b[0m\n\u001b[1;32m    224\u001b[0m         \u001b[0mself\u001b[0m\u001b[0;34m.\u001b[0m\u001b[0mset_fillstyle\u001b[0m\u001b[0;34m(\u001b[0m\u001b[0mfillstyle\u001b[0m\u001b[0;34m)\u001b[0m\u001b[0;34m\u001b[0m\u001b[0;34m\u001b[0m\u001b[0m\n\u001b[0;32m--> 225\u001b[0;31m         \u001b[0mself\u001b[0m\u001b[0;34m.\u001b[0m\u001b[0mset_marker\u001b[0m\u001b[0;34m(\u001b[0m\u001b[0mmarker\u001b[0m\u001b[0;34m)\u001b[0m\u001b[0;34m\u001b[0m\u001b[0;34m\u001b[0m\u001b[0m\n\u001b[0m\u001b[1;32m    226\u001b[0m \u001b[0;34m\u001b[0m\u001b[0m\n\u001b[1;32m    227\u001b[0m     \u001b[0;32mdef\u001b[0m \u001b[0m_recache\u001b[0m\u001b[0;34m(\u001b[0m\u001b[0mself\u001b[0m\u001b[0;34m)\u001b[0m\u001b[0;34m:\u001b[0m\u001b[0;34m\u001b[0m\u001b[0;34m\u001b[0m\u001b[0m\n",
            "\u001b[0;32m/usr/local/lib/python3.6/dist-packages/matplotlib/markers.py\u001b[0m in \u001b[0;36mset_marker\u001b[0;34m(self, marker)\u001b[0m\n\u001b[1;32m    291\u001b[0m             \u001b[0;32mexcept\u001b[0m \u001b[0mValueError\u001b[0m\u001b[0;34m:\u001b[0m\u001b[0;34m\u001b[0m\u001b[0;34m\u001b[0m\u001b[0m\n\u001b[1;32m    292\u001b[0m                 raise ValueError('Unrecognized marker style {!r}'\n\u001b[0;32m--> 293\u001b[0;31m                                  .format(marker))\n\u001b[0m\u001b[1;32m    294\u001b[0m \u001b[0;34m\u001b[0m\u001b[0m\n\u001b[1;32m    295\u001b[0m         \u001b[0mself\u001b[0m\u001b[0;34m.\u001b[0m\u001b[0m_marker\u001b[0m \u001b[0;34m=\u001b[0m \u001b[0mmarker\u001b[0m\u001b[0;34m\u001b[0m\u001b[0;34m\u001b[0m\u001b[0m\n",
            "\u001b[0;31mValueError\u001b[0m: Unrecognized marker style '0'"
          ]
        },
        {
          "output_type": "display_data",
          "data": {
            "image/png": "[encoded data removed]",
            "text/plain": [
              "<Figure size 432x288 with 1 Axes>"
            ]
          },
          "metadata": {
            "tags": [],
            "needs_background": "light"
          }
        }
      ]
    },
    {
      "cell_type": "markdown",
      "metadata": {
        "id": "y2HsPAAT5Zui",
        "colab_type": "text"
      },
      "source": [
        "밀집도 기반 군집\n",
        "복잡한 구조를 가진 데이터 셋을 구분하는데 있어, 그 능력이 출중\n",
        "\n",
        "단점 : 데이터의 특성이 늘어남에 따라 차원의 저주로 인한 역효과가 증가 \n",
        "\n",
        "차원의 저주의 문제는 유클리디안 거리 측정 방식을 사용하는 다른 군집 알고리즘에도 영향을 미침\n",
        "\n",
        "차원 축소나 표준화 등 다양한 방법을 사용해 문제점 해결\n",
        "\n",
        "이 알고리즘으로 좋은 군집 결과를 만들기 위해 이 두개의 하이퍼 파라미터를 최적화 시켜야 한다."
      ]
    },
    {
      "cell_type": "code",
      "metadata": {
        "id": "_WW0MWFc5-AB",
        "colab_type": "code",
        "colab": {}
      },
      "source": [
        "from sklearn.cluster import DBSCAN\n",
        "\n",
        "db = DBSCAN(eps=n, min_samples=m, metric='euclidean')\n",
        "#하이퍼 파라미터 최적화 n, m\n",
        "y_db = db.fit_predict(X)"
      ],
      "execution_count": 0,
      "outputs": []
    },
    {
      "cell_type": "markdown",
      "metadata": {
        "id": "F0vMgRVt6XPu",
        "colab_type": "text"
      },
      "source": [
        "성공적인 군집을 위한 조건\n",
        "하나의 알고리즘과 일정한 하이퍼 파라미터에 의존하지 말어라\n",
        "적절한 거리지표를 선택\n",
        "실험 환경을 구성하는데 있어 도움을 줄 수 있는 도메인 지식을 갖추는 것\n",
        "\n",
        "1. 계층 군집을 형성하는 방법에는 병합 계층 군집과 __계층 군집으로 나누어진다.\n",
        "- 분할\n",
        "\n",
        "2. 병합 계층 군집을 이루는 알고리즘 중 클러스터 쌍에서 가장 가까운 데이터 간의 거리를 계산하여 거리의 값이 가장 작은 두 클러스터를 하나로 합치는 연결 방식(알고리즘)은 무엇인가요?\n",
        "1) 단일연결\n",
        "2) 완전연결\n",
        "3) 평균연결\n",
        "4) 와드연결\n",
        "- 1\n",
        "\n",
        "3. 밀집도 기반 군집은 원형 클러스터를 가정하지 않는다.\n",
        "- O"
      ]
    }
  ]
}